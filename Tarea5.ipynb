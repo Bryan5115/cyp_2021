{
  "nbformat": 4,
  "nbformat_minor": 0,
  "metadata": {
    "colab": {
      "name": "Tarea5.ipynb",
      "provenance": [],
      "authorship_tag": "ABX9TyPpqfqmTk0b1R6+HPLHxB6P",
      "include_colab_link": true
    },
    "kernelspec": {
      "name": "python3",
      "display_name": "Python 3"
    }
  },
  "cells": [
    {
      "cell_type": "markdown",
      "metadata": {
        "id": "view-in-github",
        "colab_type": "text"
      },
      "source": [
        "<a href=\"https://colab.research.google.com/github/Bryan5115/cyp_2021/blob/main/Tarea5.ipynb\" target=\"_parent\"><img src=\"https://colab.research.google.com/assets/colab-badge.svg\" alt=\"Open In Colab\"/></a>"
      ]
    },
    {
      "cell_type": "code",
      "metadata": {
        "colab": {
          "base_uri": "https://localhost:8080/"
        },
        "id": "Ea1J05bK2USj",
        "outputId": "bc88f3aa-e472-4166-b5c9-94c7ec0f4487"
      },
      "source": [
        "#Ejercicio 3.1\n",
        "#Obtenga la nomina de 10 trabajadores, Considerando que no puede utilizar estructuras repetitivas en la solucion\n",
        "\n",
        "Sue1= int (input(\"Ingrese el sueldo del trabajador 1: \"))\n",
        "Sue2= int (input(\"Ingrese el sueldo del trabajador 2: \"))\n",
        "Sue3= int (input(\"Ingrese el sueldo del trabajador 3: \"))\n",
        "Sue4= int (input(\"Ingrese el sueldo del trabajador 4: \"))\n",
        "Sue5= int (input(\"Ingrese el sueldo del trabajador 5: \"))\n",
        "Sue6= int (input(\"Ingrese el sueldo del trabajador 6: \"))\n",
        "Sue7= int (input(\"Ingrese el sueldo del trabajador 7: \"))\n",
        "Sue8= int (input(\"Ingrese el sueldo del trabajador 8: \"))\n",
        "Sue9= int (input(\"Ingrese el sueldo del trabajador 9: \"))\n",
        "Sue10= int (input(\"Ingrese el sueldo del trabajador 10: \"))\n",
        "\n",
        "Nom = Sue1 + Sue2 + Sue3 + Sue4 + Sue5 + Sue6 + Sue7 + Sue8 + Sue9 + Sue10\n",
        "print(\"La nomina es de: \", Nom)"
      ],
      "execution_count": 17,
      "outputs": [
        {
          "output_type": "stream",
          "text": [
            "Ingrese el sueldo del trabajador 1: 200\n",
            "Ingrese el sueldo del trabajador 2: 400\n",
            "Ingrese el sueldo del trabajador 3: 900\n",
            "Ingrese el sueldo del trabajador 4: 1200\n",
            "Ingrese el sueldo del trabajador 5: 3000\n",
            "Ingrese el sueldo del trabajador 6: 300\n",
            "Ingrese el sueldo del trabajador 7: 260\n",
            "Ingrese el sueldo del trabajador 8: 700\n",
            "Ingrese el sueldo del trabajador 9: 5000\n",
            "Ingrese el sueldo del trabajador 10: 2000\n",
            "La nomina es de:  13960\n"
          ],
          "name": "stdout"
        }
      ]
    },
    {
      "cell_type": "code",
      "metadata": {
        "colab": {
          "base_uri": "https://localhost:8080/"
        },
        "id": "S7FhDO4w6QfL",
        "outputId": "a910d421-03be-42d9-a2c5-a8c0f19382eb"
      },
      "source": [
        "Sumg = 0\n",
        "Gasto = 0\n",
        "\n",
        "print(\"Ingresa los gastos que tuvo, cuando finalice ponga -1\")\n",
        "Gasto = float(input())\n",
        "while Gasto > -1:\n",
        "  Sumg= Sumg + Gasto\n",
        "  Gasto = float(input())\n",
        "print(f\"Los gastos totales fueron de ${Sumg}\")"
      ],
      "execution_count": 49,
      "outputs": [
        {
          "output_type": "stream",
          "text": [
            "Ingresa los gastos que tuvo, cuando finalice ponga -1\n",
            "1200\n",
            "4000\n",
            "2304\n",
            "802\n",
            "7663\n",
            "5\n",
            "-1\n",
            "Los gastos totales fueron de $15974.0\n"
          ],
          "name": "stdout"
        }
      ]
    }
  ]
}