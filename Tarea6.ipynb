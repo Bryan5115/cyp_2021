{
  "nbformat": 4,
  "nbformat_minor": 0,
  "metadata": {
    "colab": {
      "name": "Tarea6.ipynb",
      "provenance": [],
      "collapsed_sections": [],
      "authorship_tag": "ABX9TyPKCT3UUQC6BVMNZu+GI75d",
      "include_colab_link": true
    },
    "kernelspec": {
      "display_name": "Python 3",
      "name": "python3"
    }
  },
  "cells": [
    {
      "cell_type": "markdown",
      "metadata": {
        "id": "view-in-github",
        "colab_type": "text"
      },
      "source": [
        "<a href=\"https://colab.research.google.com/github/Bryan5115/cyp_2021/blob/main/Tarea6.ipynb\" target=\"_parent\"><img src=\"https://colab.research.google.com/assets/colab-badge.svg\" alt=\"Open In Colab\"/></a>"
      ]
    },
    {
      "cell_type": "code",
      "metadata": {
        "id": "roQ_EInOpfxQ",
        "colab": {
          "base_uri": "https://localhost:8080/"
        },
        "outputId": "fbadeb1b-9ce4-4886-a73d-6e52823f6fce"
      },
      "source": [
        "#Problema 3.3\r\n",
        "\r\n",
        "Serie = 0\r\n",
        "N = float(input(\"Escribe un número: \"))\r\n",
        "Band = True\r\n",
        "I = 1\r\n",
        "\r\n",
        "while I <= N:\r\n",
        "  if Band == True:\r\n",
        "    Serie = Serie + 1/I\r\n",
        "    Band = False\r\n",
        "  else:\r\n",
        "      Serie = Serie - 1/I\r\n",
        "      Band = True\r\n",
        "  I = I + 1\r\n",
        "print(\"El resultado de la serie es: \", Serie)"
      ],
      "execution_count": null,
      "outputs": [
        {
          "output_type": "stream",
          "text": [
            "Escribe un número: 9\n",
            "El resultado de la serie es:  0.7456349206349207\n"
          ],
          "name": "stdout"
        }
      ]
    },
    {
      "cell_type": "code",
      "metadata": {
        "colab": {
          "base_uri": "https://localhost:8080/"
        },
        "id": "bvDivDss4Sqq",
        "outputId": "c16482cb-e5e5-4a76-b7c5-11e9d024fe72"
      },
      "source": [
        "#Problema 3.4\r\n",
        "\r\n",
        "Nom = 0\r\n",
        "Sue = float(input(\"Introduzca el sueldo: \"))\r\n",
        "\r\n",
        "while Sue != -1:\r\n",
        "  if Sue < 1000:\r\n",
        "    Nsue = Sue * 1.15\r\n",
        "  else:\r\n",
        "      Nsue = Sue * 1.12\r\n",
        "  Nom = Nom + Nsue\r\n",
        "  print(\"El nuevo sueldo de el trabajador es: \", Nsue)\r\n",
        "  Sue = float(input(\"Introduzca el sueldo: \"))\r\n",
        "print(\"Lo acumulado es: \", Nom)"
      ],
      "execution_count": null,
      "outputs": [
        {
          "output_type": "stream",
          "text": [
            "Introduzca el sueldo: 855\n",
            "El nuevo sueldo de el trabajador es:  983.2499999999999\n",
            "Introduzca el sueldo: 760.32\n",
            "El nuevo sueldo de el trabajador es:  874.3679999999999\n",
            "Introduzca el sueldo: 1100.20\n",
            "El nuevo sueldo de el trabajador es:  1232.2240000000002\n",
            "Introduzca el sueldo: 614\n",
            "El nuevo sueldo de el trabajador es:  706.0999999999999\n",
            "Introduzca el sueldo: 2600\n",
            "El nuevo sueldo de el trabajador es:  2912.0000000000005\n",
            "Introduzca el sueldo: 817.50\n",
            "El nuevo sueldo de el trabajador es:  940.1249999999999\n",
            "Introduzca el sueldo: 1280.30\n",
            "El nuevo sueldo de el trabajador es:  1433.9360000000001\n",
            "Introduzca el sueldo: 687\n",
            "El nuevo sueldo de el trabajador es:  790.05\n",
            "Introduzca el sueldo: -1\n",
            "Lo acumulado es:  9872.053\n"
          ],
          "name": "stdout"
        }
      ]
    },
    {
      "cell_type": "code",
      "metadata": {
        "colab": {
          "base_uri": "https://localhost:8080/"
        },
        "id": "2mBXn5-b-O_-",
        "outputId": "f013bafb-a823-41f0-b3ea-aacf9eb9325d"
      },
      "source": [
        "Sumotr = 0\r\n",
        "Sumpos = 0\r\n",
        "Cuepos = 0\r\n",
        "\r\n",
        "N = int(input(\"Dame un valor: \"))\r\n",
        "I = 1\r\n",
        "\r\n",
        "while I <= N:\r\n",
        "  Num = int(input(\"Dame un numero entero: \"))\r\n",
        "  if Num > 0:\r\n",
        "    Sumpos = Sumpos + Num\r\n",
        "    Cuepos = Cuepos + 1\r\n",
        "  else:\r\n",
        "      Sumotr = Sumotr + Num\r\n",
        "    \r\n",
        "  I = I + 1\r\n",
        "\r\n",
        "Progen = (Sumpos + Sumotr)/N\r\n",
        "Propos = (Sumpos / Cuepos)\r\n",
        "\r\n",
        "print(\"Los numeros positivos son: \", Cuepos)\r\n",
        "print(\"El promedio de numeros positivos es: \", Propos)\r\n",
        "print(\"El promedio general de los numeros es: \", Progen)"
      ],
      "execution_count": null,
      "outputs": [
        {
          "output_type": "stream",
          "text": [
            "Dame un valor: 20\n",
            "Dame un numero entero: 7\n",
            "Dame un numero entero: 12\n",
            "Dame un numero entero: 0\n",
            "Dame un numero entero: 6\n",
            "Dame un numero entero: 11\n",
            "Dame un numero entero: -3\n",
            "Dame un numero entero: 17\n",
            "Dame un numero entero: 12\n",
            "Dame un numero entero: 19\n",
            "Dame un numero entero: 0\n",
            "Dame un numero entero: 11\n",
            "Dame un numero entero: 4\n",
            "Dame un numero entero: -5\n",
            "Dame un numero entero: -1\n",
            "Dame un numero entero: 0\n",
            "Dame un numero entero: 3\n",
            "Dame un numero entero: 24\n",
            "Dame un numero entero: 0\n",
            "Dame un numero entero: 3\n",
            "Dame un numero entero: -16\n",
            "Los numeros positivos son:  12\n",
            "El promedio de numeros positivos es:  10.75\n",
            "El promedio general de los numeros es:  5.2\n"
          ],
          "name": "stdout"
        }
      ]
    },
    {
      "cell_type": "code",
      "metadata": {
        "colab": {
          "base_uri": "https://localhost:8080/"
        },
        "id": "JclNpuXCBSCV",
        "outputId": "09d561d4-2ae4-4936-8017-68db6d6fb779"
      },
      "source": [
        "#Problema 3.6\r\n",
        "\r\n",
        "May = -100000\r\n",
        "Men = 100000\r\n",
        "\r\n",
        "N = int(input(\"Introduzca un valor entero: \"))\r\n",
        "I = 1\r\n",
        "\r\n",
        "while I <= N:\r\n",
        "  Num = int(input(\"Introduce un numero entero: \"))\r\n",
        "  if Num > May:\r\n",
        "    May = Num\r\n",
        "    if Num < Men:\r\n",
        "      Men = Num\r\n",
        "  I = I + 1\r\n",
        "\r\n",
        "print(\"El maximo valor es: \", May)\r\n",
        "print(\"El minimo valor es: \", Men)\r\n"
      ],
      "execution_count": null,
      "outputs": [
        {
          "output_type": "stream",
          "text": [
            "Introduzca un valor entero: 12\n",
            "Introduce un numero entero: 14\n",
            "Introduce un numero entero: 170\n",
            "Introduce un numero entero: 44\n",
            "Introduce un numero entero: 815\n",
            "Introduce un numero entero: 1700\n",
            "Introduce un numero entero: 38\n",
            "Introduce un numero entero: 140\n",
            "Introduce un numero entero: 380\n",
            "Introduce un numero entero: 1020\n",
            "Introduce un numero entero: 116\n",
            "Introduce un numero entero: 730\n",
            "Introduce un numero entero: 960\n",
            "El maximo valor es:  1700\n",
            "El minimo valor es:  14\n"
          ],
          "name": "stdout"
        }
      ]
    },
    {
      "cell_type": "code",
      "metadata": {
        "colab": {
          "base_uri": "https://localhost:8080/"
        },
        "id": "iBB8w69LLOs7",
        "outputId": "535d82ea-eb99-4c50-a102-ea879d973898"
      },
      "source": [
        "#Problema 3.7\r\n",
        "\r\n",
        "Med = 0\r\n",
        "Chi = 0\r\n",
        "Gra = 0\r\n",
        "\r\n",
        "N = int(input(\"Dame un valor entero: \"))\r\n",
        "I = 1\r\n",
        "\r\n",
        "while I <= N:\r\n",
        "  V = float(input(\"La venta del vendedor: \"))\r\n",
        "  if V <= 200:\r\n",
        "     Chi = Chi + 1\r\n",
        "  else:\r\n",
        "      if V < 400:\r\n",
        "        Med = Med+1\r\n",
        "      else:\r\n",
        "          Gra = Gra + 1\r\n",
        "  I = I + 1\r\n",
        "\r\n",
        "print(\"La venta menor es: \", Chi)\r\n",
        "print(\"La venta Mediana es: \", Med)\r\n",
        "print(\"La venta Grande es: \", Gra)"
      ],
      "execution_count": null,
      "outputs": [
        {
          "output_type": "stream",
          "text": [
            "Dame un valor entero: 12\n",
            "La venta del vendedor: 180.25\n",
            "La venta del vendedor: 470.30\n",
            "La venta del vendedor: 150.25\n",
            "La venta del vendedor: 88.60\n",
            "La venta del vendedor: 230.15\n",
            "La venta del vendedor: 170.20\n",
            "La venta del vendedor: 40.30\n",
            "La venta del vendedor: 201.90\n",
            "La venta del vendedor: 60.32\n",
            "La venta del vendedor: 280.30\n",
            "La venta del vendedor: 15.70\n",
            "La venta del vendedor: 140.20\n",
            "La venta menor es:  8\n",
            "La venta Mediana es:  3\n",
            "La venta Grande es:  1\n"
          ],
          "name": "stdout"
        }
      ]
    },
    {
      "cell_type": "code",
      "metadata": {
        "colab": {
          "base_uri": "https://localhost:8080/"
        },
        "id": "l1H5ANURgB06",
        "outputId": "cf46af04-9f14-4944-c998-7c914eb068c9"
      },
      "source": [
        "#Problema 3.8\r\n",
        "\r\n",
        "Num = int(input(\"Dame un numero: \"))\r\n",
        "\r\n",
        "if Num > 0:\r\n",
        "  while (Num != 1):\r\n",
        "    print(Num)\r\n",
        "    if ((-1)**Num)>0:      \r\n",
        "      Num = Num/2\r\n",
        "    else:\r\n",
        "        Num = Num*3 + 1\r\n",
        "  print(Num)\r\n",
        "else:\r\n",
        "  print(\"Num tiene que ser entero positivo\")"
      ],
      "execution_count": null,
      "outputs": [
        {
          "output_type": "stream",
          "text": [
            "Dame un numero: 25\n",
            "25\n",
            "76\n",
            "38.0\n",
            "19.0\n",
            "58.0\n",
            "29.0\n",
            "88.0\n",
            "44.0\n",
            "22.0\n",
            "11.0\n",
            "34.0\n",
            "17.0\n",
            "52.0\n",
            "26.0\n",
            "13.0\n",
            "40.0\n",
            "20.0\n",
            "10.0\n",
            "5.0\n",
            "16.0\n",
            "8.0\n",
            "4.0\n",
            "2.0\n",
            "1.0\n"
          ],
          "name": "stdout"
        }
      ]
    },
    {
      "cell_type": "code",
      "metadata": {
        "colab": {
          "base_uri": "https://localhost:8080/"
        },
        "id": "akidml40gHcU",
        "outputId": "6c522fea-c863-46d1-cb5a-75207fcd5709"
      },
      "source": [
        "#Problema 3.9\r\n",
        "\r\n",
        "Serie = 0\r\n",
        "N = int(input(\"Dame un numero: \"))\r\n",
        "I = 1\r\n",
        "\r\n",
        "while I <= N:\r\n",
        "  Serie = Serie + I**I \r\n",
        "  I = I + 1\r\n",
        "\r\n",
        "print(\"Lo acumulado es: \", Serie)"
      ],
      "execution_count": null,
      "outputs": [
        {
          "output_type": "stream",
          "text": [
            "Dame un numero: 8\n",
            "Lo acumulado es:  17650828\n"
          ],
          "name": "stdout"
        }
      ]
    },
    {
      "cell_type": "code",
      "metadata": {
        "colab": {
          "base_uri": "https://localhost:8080/"
        },
        "id": "D7TZdvpzuEpG",
        "outputId": "a60d2637-4ffd-4ef3-cf9d-fc46f5c9ef18"
      },
      "source": [
        "#Problema 3.10\r\n",
        "\r\n",
        "Pri = 0\r\n",
        "Seg = 1\r\n",
        "I = 3\r\n",
        "\r\n",
        "while I <= 180:\r\n",
        "  Sig = Pri + Seg\r\n",
        "  Pri = Seg\r\n",
        "  Seg = Sig \r\n",
        "  I = I + 1\r\n",
        "\r\n",
        "print(\"El resultado es de: \", Sig)"
      ],
      "execution_count": null,
      "outputs": [
        {
          "output_type": "stream",
          "text": [
            "El resultado es de:  11463113765491467695340528626429782121\n"
          ],
          "name": "stdout"
        }
      ]
    },
    {
      "cell_type": "code",
      "metadata": {
        "colab": {
          "base_uri": "https://localhost:8080/"
        },
        "id": "ooWL75SkxaHa",
        "outputId": "d7c00903-f6fe-419e-adf9-ff39089a76cc"
      },
      "source": [
        "#Problema 3.11\r\n",
        "\r\n",
        "Can1 = 0\r\n",
        "Can2 = 0\r\n",
        "Can3 = 0\r\n",
        "Can4 = 0\r\n",
        "\r\n",
        "voto = float(input(\"Da un voto: \"))\r\n",
        "\r\n",
        "while voto != 0:\r\n",
        "  voto = float(input(\"Da un voto: \"))\r\n",
        "\r\n",
        "  if (voto <= 1):\r\n",
        "    Can1= Can1 + 1\r\n",
        "    \r\n",
        "  elif (voto <= 2):\r\n",
        "    Can2= Can2 + 1\r\n",
        "      \r\n",
        "  elif (voto <= 3):\r\n",
        "    Can3 = Can3 + 1\r\n",
        "        \r\n",
        "  elif (voto <= 4):\r\n",
        "    Can4 = Can4 + 1\r\n",
        "\r\n",
        "\r\n",
        "Sumv = Can1 + Can2 + Can3 + Can4\r\n",
        "Por1 = (Can1/Sumv)*100\r\n",
        "Por2 = (Can2/Sumv)*100\r\n",
        "Por3 = (Can3/Sumv)*100\r\n",
        "Por4 = (Can4/Sumv)*100\r\n",
        "\r\n",
        "print(\"Voto candidato 1: \", Can1, \"Porcentaje:\", Por1)\r\n",
        "print(\"Voto candidato 2: \", Can2, \"Porcentaje:\", Por2)\r\n",
        "print(\"Voto candidato 3: \", Can3, \"Porcentaje:\", Por3)\r\n",
        "print(\"Voto candidato 4: \", Can4, \"Porcentaje:\", Por4)\r\n",
        "print(\"Cantidad de votantes: \", Sumv)"
      ],
      "execution_count": null,
      "outputs": [
        {
          "output_type": "stream",
          "text": [
            "Da un voto: 1\n",
            "Da un voto: 1\n",
            "Da un voto: 2\n",
            "Da un voto: 1\n",
            "Da un voto: 3\n",
            "Da un voto: 1\n",
            "Da un voto: 1\n",
            "Da un voto: 2\n",
            "Da un voto: 4\n",
            "Da un voto: 4\n",
            "Da un voto: 3\n",
            "Da un voto: 1\n",
            "Da un voto: 1\n",
            "Da un voto: 2\n",
            "Da un voto: 3\n",
            "Da un voto: 1\n",
            "Da un voto: 4\n",
            "Da un voto: 1\n",
            "Da un voto: 2\n",
            "Da un voto: 1\n",
            "Da un voto: 2\n",
            "Da un voto: 4\n",
            "Da un voto: 4\n",
            "Da un voto: 2\n",
            "Da un voto: 1\n",
            "Da un voto: 0\n",
            "Voto candidato 1:  11 Porcentaje: 44.0\n",
            "Voto candidato 2:  6 Porcentaje: 24.0\n",
            "Voto candidato 3:  3 Porcentaje: 12.0\n",
            "Voto candidato 4:  5 Porcentaje: 20.0\n",
            "Cantidad de votantes:  25\n"
          ],
          "name": "stdout"
        }
      ]
    },
    {
      "cell_type": "code",
      "metadata": {
        "colab": {
          "base_uri": "https://localhost:8080/"
        },
        "id": "My222XMaF846",
        "outputId": "b8df6d3c-0081-4260-ba6a-72b87f0b9d79"
      },
      "source": [
        "#Problema 3.12\r\n",
        "\r\n",
        "Masue = 0\r\n",
        "N = int(input(\"Dame un numero: \"))\r\n",
        "I = 1\r\n",
        "\r\n",
        "while I <= N:\r\n",
        "  Numemp= int(input(\"Numero del empleado: \"))\r\n",
        "  Sue = int(input(\"Sueldo del empleado: \"))\r\n",
        "\r\n",
        "  if Sue > Masue:\r\n",
        "    Masue = Sue\r\n",
        "    Manum = Numemp\r\n",
        "\r\n",
        "  I = I + 1\r\n",
        "\r\n",
        "print(\"Empleado con mayor sueldo es: \", Manum)\r\n",
        "print(\"El mayor sueldo es: \", Masue)"
      ],
      "execution_count": null,
      "outputs": [
        {
          "output_type": "stream",
          "text": [
            "Dame un numero: 6\n",
            "Numero del empleado: 1235\n",
            "Sueldo del empleado: 2580\n",
            "Numero del empleado: 1260\n",
            "Sueldo del empleado: 1400\n",
            "Numero del empleado: 1325\n",
            "Sueldo del empleado: 3600\n",
            "Numero del empleado: 1418\n",
            "Sueldo del empleado: 2720\n",
            "Numero del empleado: 1650\n",
            "Sueldo del empleado: 4120\n",
            "Numero del empleado: 1717\n",
            "Sueldo del empleado: 1950\n",
            "Empleado con mayor sueldo es:  1650\n",
            "El mayor sueldo es:  4120\n"
          ],
          "name": "stdout"
        }
      ]
    },
    {
      "cell_type": "code",
      "metadata": {
        "colab": {
          "base_uri": "https://localhost:8080/"
        },
        "id": "DL58p7n7HrIZ",
        "outputId": "b3920e71-4b25-4159-9470-e6f5c00650f9"
      },
      "source": [
        "#Problema 3.13\r\n",
        "\r\n",
        "Arsu = 0\r\n",
        "Arno = 0\r\n",
        "Mersu = 50000\r\n",
        "Arce = 0\r\n",
        "I = 1\r\n",
        "\r\n",
        "while I <= 12:\r\n",
        "  rno = float(input(\"Lluvia del norte: \"))\r\n",
        "  rce = float(input(\"Lluvia del centro: \"))\r\n",
        "  rsu = float(input(\"Lluvia del sur: \"))\r\n",
        "\r\n",
        "  Arno = Arno + rno\r\n",
        "  Arce = Arce + rce\r\n",
        "  Arsu = Arsu + rsu\r\n",
        "\r\n",
        "  if rsu < Mersu:\r\n",
        "    Mersu = rsu\r\n",
        "    Mes = I\r\n",
        "\r\n",
        "  I = I + 1\r\n",
        "\r\n",
        "Prorce = Arce/12\r\n",
        "print(\"Promedio region centro: \", Prorce)\r\n",
        "print(\"Mes con menor lluvia reg sur: \", Mes)\r\n",
        "print(\"Registro del mes: \", Mersu)\r\n",
        "\r\n",
        "if Arno > Arce:\r\n",
        "  if Arno > Arsu:\r\n",
        "    print(\"La region con mayor lluvia es la region norte\")\r\n",
        "  else:\r\n",
        "      print(\"La region con mayor lluvia es la region sur\")\r\n",
        "\r\n",
        "else:\r\n",
        "    if Arce > Arsu:\r\n",
        "      print(\"La region con mayor lluvia es la centro\")\r\n",
        "    else:\r\n",
        "        print(\"La region con mayor lluvia es la sur\")\r\n"
      ],
      "execution_count": null,
      "outputs": [
        {
          "output_type": "stream",
          "text": [
            "Lluvia del norte: 80\n",
            "Lluvia del centro: 70\n",
            "Lluvia del sur: 170\n",
            "Lluvia del norte: 60\n",
            "Lluvia del centro: 85\n",
            "Lluvia del sur: 100\n",
            "Lluvia del norte: 120\n",
            "Lluvia del centro: 100\n",
            "Lluvia del sur: 185\n",
            "Lluvia del norte: 100\n",
            "Lluvia del centro: 90\n",
            "Lluvia del sur: 88\n",
            "Lluvia del norte: 70\n",
            "Lluvia del centro: 82\n",
            "Lluvia del sur: 80\n",
            "Lluvia del norte: 150\n",
            "Lluvia del centro: 130\n",
            "Lluvia del sur: 122\n",
            "Lluvia del norte: 100\n",
            "Lluvia del centro: 95\n",
            "Lluvia del sur: 67\n",
            "Lluvia del norte: 47\n",
            "Lluvia del centro: 38\n",
            "Lluvia del sur: 55\n",
            "Lluvia del norte: 95\n",
            "Lluvia del centro: 115\n",
            "Lluvia del sur: 110\n",
            "Lluvia del norte: 70\n",
            "Lluvia del centro: 62\n",
            "Lluvia del sur: 83\n",
            "Lluvia del norte: 100\n",
            "Lluvia del centro: 87\n",
            "Lluvia del sur: 107\n",
            "Lluvia del norte: 130\n",
            "Lluvia del centro: 103\n",
            "Lluvia del sur: 148\n",
            "Promedio region centro:  88.08333333333333\n",
            "Mes con menor lluvia reg sur:  8\n",
            "Registro del mes:  55.0\n",
            "La region con mayor lluvia es la region sur\n"
          ],
          "name": "stdout"
        }
      ]
    },
    {
      "cell_type": "code",
      "metadata": {
        "colab": {
          "base_uri": "https://localhost:8080/"
        },
        "id": "HBn3gwwbL3d2",
        "outputId": "acb10f6f-5710-44e2-875a-173fb09a7ec9"
      },
      "source": [
        "#Problema 3.14\r\n",
        "\r\n",
        "ap1 = 0\r\n",
        "ap2 = 0\r\n",
        "ap3 = 0\r\n",
        "ap4 = 0\r\n",
        "ap5 = 0\r\n",
        "recau = 0\r\n",
        "\r\n",
        "p1 = float(input(\"Precio de localidad 1: \"))\r\n",
        "p2 = float(input(\"Precio de localidad 2: \"))\r\n",
        "p3 = float(input(\"Precio de localidad 3: \"))\r\n",
        "p4 = float(input(\"Precio de localidad 4: \"))\r\n",
        "p5 = float(input(\"Precio de localidad 5: \"))\r\n",
        "clave = float(input(\"Tipo de localidad: \"))\r\n",
        "cant = float(input(\"Boletos: \"))\r\n",
        "\r\n",
        "while (clave != -1) and (cant != -1):\r\n",
        "\r\n",
        "  if clave <= 1:\r\n",
        "    pre = p1 * cant\r\n",
        "    ap1 = ap1 + cant\r\n",
        "    print(clave)\r\n",
        "    print(cant)\r\n",
        "    print(pre)\r\n",
        "  elif clave <=2:\r\n",
        "      pre = p2 * cant\r\n",
        "      ap2 = ap2 + cant\r\n",
        "      print(clave)\r\n",
        "      print(cant)\r\n",
        "      print(pre)\r\n",
        "  elif clave <=3:\r\n",
        "        pre = p3 * cant\r\n",
        "        ap3 = ap3 + cant\r\n",
        "        print(clave)\r\n",
        "        print(cant)\r\n",
        "        print(pre)\r\n",
        "  elif clave <=4:\r\n",
        "          pre = p4 * cant\r\n",
        "          ap4 = ap4 + cant\r\n",
        "          print(clave)\r\n",
        "          print(cant)\r\n",
        "          print(pre)\r\n",
        "\r\n",
        "  elif clave <=5:\r\n",
        "            pre = p5 * cant\r\n",
        "            ap5 = ap5 + cant\r\n",
        "\r\n",
        "            print(clave)\r\n",
        "            print(cant)\r\n",
        "            print(pre)\r\n",
        "\r\n",
        "  recau = recau + pre\r\n",
        "  clave = float(input(\"Tipo de localidad: \"))\r\n",
        "  cant = float(input(\"Boletos: \"))\r\n",
        "\r\n",
        "print(\"Cantidad de boletos tipo 1 es: \", ap1)\r\n",
        "print(\"Cantidad de boletos tipo 2 es: \", ap2)\r\n",
        "print(\"Cantidad de boletos tipo 3 es: \", ap3)\r\n",
        "print(\"Cantidad de boletos tipo 4 es: \", ap4)\r\n",
        "print(\"Cantidad de boletos tipo 5 es: \", ap5)\r\n",
        "print(\"Recaudacion del estado: \", recau)"
      ],
      "execution_count": null,
      "outputs": [
        {
          "output_type": "stream",
          "text": [
            "Precio de localidad 1: 7.25\n",
            "Precio de localidad 2: 15.80\n",
            "Precio de localidad 3: 25.00\n",
            "Precio de localidad 4: 50.00\n",
            "Precio de localidad 5: 75.00\n",
            "Tipo de localidad: 2\n",
            "Boletos: 3\n",
            "2.0\n",
            "3.0\n",
            "47.400000000000006\n",
            "Tipo de localidad: 3\n",
            "Boletos: 8\n",
            "3.0\n",
            "8.0\n",
            "200.0\n",
            "Tipo de localidad: 2\n",
            "Boletos: 4\n",
            "2.0\n",
            "4.0\n",
            "63.2\n",
            "Tipo de localidad: 1\n",
            "Boletos: 6\n",
            "1.0\n",
            "6.0\n",
            "43.5\n",
            "Tipo de localidad: 4\n",
            "Boletos: 5\n",
            "4.0\n",
            "5.0\n",
            "250.0\n",
            "Tipo de localidad: 1\n",
            "Boletos: 12\n",
            "1.0\n",
            "12.0\n",
            "87.0\n",
            "Tipo de localidad: 2\n",
            "Boletos: 8\n",
            "2.0\n",
            "8.0\n",
            "126.4\n",
            "Tipo de localidad: 5\n",
            "Boletos: 3\n",
            "5.0\n",
            "3.0\n",
            "225.0\n",
            "Tipo de localidad: 2\n",
            "Boletos: 7\n",
            "2.0\n",
            "7.0\n",
            "110.60000000000001\n",
            "Tipo de localidad: 3\n",
            "Boletos: 14\n",
            "3.0\n",
            "14.0\n",
            "350.0\n",
            "Tipo de localidad: 4\n",
            "Boletos: 1\n",
            "4.0\n",
            "1.0\n",
            "50.0\n",
            "Tipo de localidad: 2\n",
            "Boletos: 11\n",
            "2.0\n",
            "11.0\n",
            "173.8\n",
            "Tipo de localidad: 4\n",
            "Boletos: 9\n",
            "4.0\n",
            "9.0\n",
            "450.0\n",
            "Tipo de localidad: 5\n",
            "Boletos: 7\n",
            "5.0\n",
            "7.0\n",
            "525.0\n",
            "Tipo de localidad: 1\n",
            "Boletos: 23\n",
            "1.0\n",
            "23.0\n",
            "166.75\n",
            "Tipo de localidad: 1\n",
            "Boletos: 18\n",
            "1.0\n",
            "18.0\n",
            "130.5\n",
            "Tipo de localidad: 3\n",
            "Boletos: 4\n",
            "3.0\n",
            "4.0\n",
            "100.0\n",
            "Tipo de localidad: -1\n",
            "Boletos: -1\n",
            "Cantidad de boletos tipo 1 es:  59.0\n",
            "Cantidad de boletos tipo 2 es:  33.0\n",
            "Cantidad de boletos tipo 3 es:  26.0\n",
            "Cantidad de boletos tipo 4 es:  15.0\n",
            "Cantidad de boletos tipo 5 es:  10.0\n",
            "Recaudacion del estado:  3099.1499999999996\n"
          ],
          "name": "stdout"
        }
      ]
    },
    {
      "cell_type": "code",
      "metadata": {
        "colab": {
          "base_uri": "https://localhost:8080/"
        },
        "id": "Ynh36gqbVWZN",
        "outputId": "15727f56-1d74-4521-c80e-b13968c0c12d"
      },
      "source": [
        "#Programa 3.15\r\n",
        "\r\n",
        "cl = 0\r\n",
        "cuenta = 0\r\n",
        "\r\n",
        "tipo = input(\"Tipo de llamada: \")\r\n",
        "dur = int(input(\"duracion de llamadas: \"))\r\n",
        "\r\n",
        "while (tipo != \"X\") and (dur != -1):\r\n",
        "  if tipo <= \"I\":\r\n",
        "    if dur > 3:\r\n",
        "      costo = 7.59 + (dur - 3) *3.03\r\n",
        "    else:\r\n",
        "        costo = 7.59\r\n",
        "  elif tipo <= \"L\":\r\n",
        "    cl = cl + 1\r\n",
        "    if cl > 50:\r\n",
        "      costo = 0.60\r\n",
        "    else:\r\n",
        "      costo = 0\r\n",
        "  elif tipo <= \"N\":\r\n",
        "    if dur > 3:\r\n",
        "      costo = 1.20 + (dur - 3) * 0.48\r\n",
        "    else:\r\n",
        "        costo = 1.20\r\n",
        "\r\n",
        "  cuenta= cuenta + costo\r\n",
        "  tipo = input(\"Tipo de llamada: \")\r\n",
        "  dur = int(input(\"duracion de llamadas: \"))\r\n",
        "\r\n",
        "print(\"El costo de todas las llamadas es: \", cuenta)"
      ],
      "execution_count": null,
      "outputs": [
        {
          "output_type": "stream",
          "text": [
            "Tipo de llamada: I\n",
            "duracion de llamadas: 7\n",
            "Tipo de llamada: N\n",
            "duracion de llamadas: 6\n",
            "Tipo de llamada: N\n",
            "duracion de llamadas: 12\n",
            "Tipo de llamada: L\n",
            "duracion de llamadas: 5\n",
            "Tipo de llamada: L\n",
            "duracion de llamadas: 7\n",
            "Tipo de llamada: L\n",
            "duracion de llamadas: 15\n",
            "Tipo de llamada: N\n",
            "duracion de llamadas: 16\n",
            "Tipo de llamada: L\n",
            "duracion de llamadas: 7\n",
            "Tipo de llamada: L\n",
            "duracion de llamadas: 6\n",
            "Tipo de llamada: L\n",
            "duracion de llamadas: 4\n",
            "Tipo de llamada: I\n",
            "duracion de llamadas: 11\n",
            "Tipo de llamada: X\n",
            "duracion de llamadas: -1\n",
            "El costo de todas las llamadas es:  67.14\n"
          ],
          "name": "stdout"
        }
      ]
    },
    {
      "cell_type": "code",
      "metadata": {
        "colab": {
          "base_uri": "https://localhost:8080/"
        },
        "id": "o1e7Rf0Kd_Fa",
        "outputId": "e7158cf9-c65d-4d22-d460-85b9b620e2c6"
      },
      "source": [
        "#Problema 3.16\r\n",
        "\r\n",
        "tipo1 = 0\r\n",
        "tipo2 = 0\r\n",
        "tipo3 = 0\r\n",
        "tipo4 = 0\r\n",
        "tipo5 = 0\r\n",
        "mctipo2 = 0\r\n",
        "\r\n",
        "N = int(input(\"Numero de años: \"))\r\n",
        "I = 1\r\n",
        "\r\n",
        "while I <= N:\r\n",
        "  J = 1\r\n",
        "  totvin = 0\r\n",
        "\r\n",
        "  while J <= 5:\r\n",
        "    v= int(input(\"Cantidad de vinos: \"))\r\n",
        "    totvin = totvin + v\r\n",
        "    J= int(input(\"ciclo interno: \"))\r\n",
        "\r\n",
        "    if J <= 1:\r\n",
        "      tipo1= tipo1 + v\r\n",
        "\r\n",
        "    elif J<= 2:\r\n",
        "        tipo2= tipo2 + v\r\n",
        "        if v > mctipo2:\r\n",
        "          mctipo2 = v\r\n",
        "          año = I\r\n",
        "\r\n",
        "        elif J <= 3:\r\n",
        "          tipo3 = tipo3 + v\r\n",
        "          if v <= 0:\r\n",
        "            print(\"El año: \", I, \"No se produjo vino tipo 3\")\r\n",
        "\r\n",
        "          elif J <= 4:\r\n",
        "            tipo4= tipo4 + v\r\n",
        "\r\n",
        "          elif J <= 5:\r\n",
        "              tipo5= tipo5 + v\r\n",
        "  J = J + 1\r\n",
        "  print(\"total litros producidos por año: \", totvin)\r\n",
        "  I = I + 1\r\n",
        "\r\n",
        "print(\"Total tipo 1: \", tipo1)\r\n",
        "print(\"Total tipo 2: \", tipo2)\r\n",
        "print(\"Total tipo 3: \", tipo3)\r\n",
        "print(\"Total tipo 4: \", tipo4)\r\n",
        "print(\"Total tipo 5: \", tipo5)\r\n",
        "\r\n",
        "print(\"Año en que se produjo mayor cantidad vino tipo 2: \", año, \"litros: \", mctipo2)"
      ],
      "execution_count": null,
      "outputs": [
        {
          "output_type": "stream",
          "text": [
            "Numero de años: 2\n",
            "Cantidad de vinos: 134\n",
            "ciclo interno: 1\n",
            "Cantidad de vinos: 312\n",
            "ciclo interno: 2\n",
            "Cantidad de vinos: 432\n",
            "ciclo interno: 3\n",
            "Cantidad de vinos: 873\n",
            "ciclo interno: 2\n",
            "Cantidad de vinos: 328\n",
            "ciclo interno: 1\n",
            "Cantidad de vinos: 726\n",
            "ciclo interno: 5\n",
            "Cantidad de vinos: 323\n",
            "ciclo interno: 4\n",
            "Cantidad de vinos: 473\n",
            "ciclo interno: 1\n",
            "Cantidad de vinos: 674\n",
            "ciclo interno: 2\n",
            "Cantidad de vinos: 522\n",
            "ciclo interno: 1\n",
            "Cantidad de vinos: 923\n",
            "ciclo interno: 6\n",
            "total litros producidos por año:  5720\n",
            "Cantidad de vinos: 432\n",
            "ciclo interno: 32\n",
            "total litros producidos por año:  432\n",
            "Total tipo 1:  1457\n",
            "Total tipo 2:  1859\n",
            "Total tipo 3:  674\n",
            "Total tipo 4:  674\n",
            "Total tipo 5:  0\n",
            "Año en que se produjo mayor cantidad vino tipo 2:  1 litros:  873\n"
          ],
          "name": "stdout"
        }
      ]
    },
    {
      "cell_type": "code",
      "metadata": {
        "colab": {
          "base_uri": "https://localhost:8080/"
        },
        "id": "3mD9nJCiw4MK",
        "outputId": "be4ccd26-e0ac-4cd7-9a42-bc8632b9a888"
      },
      "source": [
        "#Problema 3.17\r\n",
        "\r\n",
        "I = 3\r\n",
        "Sp = 0\r\n",
        "M = int(input(\"Numero limite: \"))\r\n",
        "\r\n",
        "if M >= 1:\r\n",
        "  Sp= Sp + 1\r\n",
        "  print(\"Numero primo: \", 1)\r\n",
        "\r\n",
        "  if M >= 2:\r\n",
        "    Sp = Sp + 1\r\n",
        "    print(\"Numero primo: \", 2)\r\n",
        "\r\n",
        "while I <= M:\r\n",
        "  Band = True\r\n",
        "  J = 3\r\n",
        "\r\n",
        "  while J < (I / 2) and (Band == True):\r\n",
        "    if I%M == 0:\r\n",
        "      Band = False\r\n",
        "      J = J + 2\r\n",
        "\r\n",
        "    if Band == True:\r\n",
        "        print(\"Numero primo:\", I)\r\n",
        "        Sp = Sp + 1\r\n",
        "        I = I + 2\r\n",
        "  \r\n",
        "print(\"Entre 1 y\", M, \"hay\", Sp,\"Numeros Primos\")"
      ],
      "execution_count": 148,
      "outputs": [
        {
          "output_type": "stream",
          "text": [
            "Numero limite: 2\n",
            "Numero primo:  1\n",
            "Numero primo:  2\n",
            "Entre 1 y 2 hay 2 Numeros Primos\n"
          ],
          "name": "stdout"
        }
      ]
    },
    {
      "cell_type": "code",
      "metadata": {
        "colab": {
          "base_uri": "https://localhost:8080/"
        },
        "id": "asjF5lsA0d4L",
        "outputId": "1374073c-8c22-485a-8cc1-2499fddbd271"
      },
      "source": [
        "#Problema 3.18\r\n",
        "\r\n",
        "Maypro = 0\r\n",
        "N = int(input(\"Fabricas registradas: \"))\r\n",
        "\r\n",
        "if N <= 100:\r\n",
        "  I = 1\r\n",
        "  \r\n",
        "  while I <= N:\r\n",
        "    Fabrica: input(\"Clave fabrica: \")\r\n",
        "    Totanu = 0\r\n",
        "    J = 1\r\n",
        "\r\n",
        "    while J <= 12:\r\n",
        "      Mes = int(input(\"Produccion de fabrica en el mes: \"))\r\n",
        "      Totanu = Totanu + Mes\r\n",
        "\r\n",
        "      if (J <= 7) and (Mes > 3000000):\r\n",
        "        print(Fabrica)\r\n",
        "        J = J + 1\r\n",
        "\r\n",
        "        if Totanu > Maypro:\r\n",
        "          Maypro = Totanu\r\n",
        "          Clave = Fabrica\r\n",
        "        \r\n",
        "      \r\n",
        "        print(\"Fabrica que mas produjo en el año: \", clave, \"Produccion:$\", Maypro)\r\n",
        "else:\r\n",
        "  print(\"Error en numero de fabricas\")\r\n"
      ],
      "execution_count": 181,
      "outputs": [
        {
          "output_type": "stream",
          "text": [
            "Fabricas registradas: 213\n",
            "Error en numero de fabricas\n"
          ],
          "name": "stdout"
        }
      ]
    },
    {
      "cell_type": "code",
      "metadata": {
        "colab": {
          "base_uri": "https://localhost:8080/"
        },
        "id": "II3JVyTG_v0y",
        "outputId": "ca355a8a-90fb-46f9-965b-cfd51d72c7bc"
      },
      "source": [
        "#Problema 3.19\r\n",
        "\r\n",
        "N = int(input(\"Ingrese un numero: \"))\r\n",
        "I = 1\r\n",
        "\r\n",
        "while I <= N:\r\n",
        "  Sum = 0\r\n",
        "  J = 1\r\n",
        "\r\n",
        "  while J <= (I/2):\r\n",
        "    if I%J == 0:\r\n",
        "      Sum = Sum + J\r\n",
        "    J = J + 1\r\n",
        "\r\n",
        "  if Sum == I:\r\n",
        "      print(I, \"Es un numero perfecto\")\r\n",
        "  I = I + 1 \r\n"
      ],
      "execution_count": 110,
      "outputs": [
        {
          "output_type": "stream",
          "text": [
            "Ingrese un numero: 9\n",
            "6 Es un numero perfecto\n"
          ],
          "name": "stdout"
        }
      ]
    }
  ]
}