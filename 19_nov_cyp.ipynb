{
  "nbformat": 4,
  "nbformat_minor": 0,
  "metadata": {
    "colab": {
      "name": "19_nov_cyp.ipynb",
      "provenance": [],
      "authorship_tag": "ABX9TyOoF2xkf5Pr/axjZSMEkcgG",
      "include_colab_link": true
    },
    "kernelspec": {
      "name": "python3",
      "display_name": "Python 3"
    }
  },
  "cells": [
    {
      "cell_type": "markdown",
      "metadata": {
        "id": "view-in-github",
        "colab_type": "text"
      },
      "source": [
        "<a href=\"https://colab.research.google.com/github/Bryan5115/cyp_2021/blob/main/19_nov_cyp.ipynb\" target=\"_parent\"><img src=\"https://colab.research.google.com/assets/colab-badge.svg\" alt=\"Open In Colab\"/></a>"
      ]
    },
    {
      "cell_type": "code",
      "metadata": {
        "colab": {
          "base_uri": "https://localhost:8080/"
        },
        "id": "4ubIMp6Eg-J_",
        "outputId": "24f28cdb-5b05-4c6a-9fc3-72e881c25c1f"
      },
      "source": [
        "# Concepto de asignacion \n",
        "I = 0\n",
        "I = I + 1\n",
        "I = I + 1\n",
        "print(f\"I = { I } \")\n",
        "J = 5 ** 2 / 3\n",
        "print(f\"J = { J }\")"
      ],
      "execution_count": 3,
      "outputs": [
        {
          "output_type": "stream",
          "text": [
            "I = 2 \n",
            "J = 8.333333333333334\n"
          ],
          "name": "stdout"
        }
      ]
    },
    {
      "cell_type": "code",
      "metadata": {
        "colab": {
          "base_uri": "https://localhost:8080/"
        },
        "id": "kBhkRnC-mxtM",
        "outputId": "5d8e88d2-1f9a-4905-87e3-1864489542ad"
      },
      "source": [
        "# declaracion de variables (reservando memoria)\n",
        "A = 0\n",
        "B = 0\n",
        "C = 0\n",
        "D = 0\n",
        "\n",
        "A = int(input(\"Dame un valor entero:\"))\n",
        "B = int(input(\"Dame un valor entero:\"))\n",
        "C = int(input(\"Dame un valor entero:\"))\n",
        "D = int(input(\"Dame un valor entero:\"))\n",
        "\n",
        "print(D)\n",
        "print(C)\n",
        "print(B)\n",
        "print(A)"
      ],
      "execution_count": 4,
      "outputs": [
        {
          "output_type": "stream",
          "text": [
            "Dame un valor entero:10\n",
            "Dame un valor entero:20\n",
            "Dame un valor entero:30\n",
            "Dame un valor entero:40\n",
            "40\n",
            "30\n",
            "20\n",
            "10\n"
          ],
          "name": "stdout"
        }
      ]
    },
    {
      "cell_type": "code",
      "metadata": {
        "colab": {
          "base_uri": "https://localhost:8080/"
        },
        "id": "68gJ8gNWpMHh",
        "outputId": "c8b23d41-8b8a-4e5b-98f0-bd2d282f42a9"
      },
      "source": [
        "#ejemplo 1.7\n",
        "A = 0\n",
        "B = 0\n",
        "A = int( input(\" dame un entero:\"))\n",
        "B = int( input(\" dame otro entero:\"))\n",
        "RES = (A + B)** 2 / 3\n",
        "print(RES)\n"
      ],
      "execution_count": 6,
      "outputs": [
        {
          "output_type": "stream",
          "text": [
            " dame un entero:14\n",
            " dame otro entero:-5\n",
            "27.0\n"
          ],
          "name": "stdout"
        }
      ]
    },
    {
      "cell_type": "code",
      "metadata": {
        "colab": {
          "base_uri": "https://localhost:8080/"
        },
        "id": "w5gZcgHluWjc",
        "outputId": "fd758ab0-3d99-4c27-d82a-db2097cc606c"
      },
      "source": [
        "#ejemplo 1.8\n",
        "MAT = 0\n",
        "CAL1 = 0\n",
        "CAL2 = 0\n",
        "CAL3 = 0\n",
        "CAL4 = 0\n",
        "CAL5 = 0\n",
        "PRO = 0.0\n",
        "\n",
        "MAT = (input(\"Dame la matricula:\"))\n",
        "CAL1 = float(input(\"Dame la calificacion 1:\"))\n",
        "CAL2 = float(input(\"Dame la calificacion 2:\"))\n",
        "CAL3 = float(input(\"Dame la calificacion 3:\"))\n",
        "CAL4 = float(input(\"Dame la calificacion 4:\"))\n",
        "CAL5 = float(input(\"Dame la calificacion 5:\"))\n",
        "PRO = (CAL1 + CAL2 + CAL3 + CAL4 + CAL5) / 5\n",
        "print ( MAT, PRO)"
      ],
      "execution_count": 9,
      "outputs": [
        {
          "output_type": "stream",
          "text": [
            "Dame la matricula:16500\n",
            "Dame la calificacion 1:8.5\n",
            "Dame la calificacion 2:9\n",
            "Dame la calificacion 3:8\n",
            "Dame la calificacion 4:7\n",
            "Dame la calificacion 5:6\n",
            "16500 7.7\n"
          ],
          "name": "stdout"
        }
      ]
    },
    {
      "cell_type": "code",
      "metadata": {
        "colab": {
          "base_uri": "https://localhost:8080/"
        },
        "id": "kz2jlLQCxrWC",
        "outputId": "768630eb-49c8-42a3-b023-6ec277322cb2"
      },
      "source": [
        "#Ejemplo 1.9\n",
        "num = int(input(\"Number: \"))\n",
        "print(num ** 2)\n",
        "print(num ** 3)"
      ],
      "execution_count": 17,
      "outputs": [
        {
          "output_type": "stream",
          "text": [
            "Number: 7\n",
            "49\n",
            "343\n"
          ],
          "name": "stdout"
        }
      ]
    },
    {
      "cell_type": "code",
      "metadata": {
        "colab": {
          "base_uri": "https://localhost:8080/"
        },
        "id": "FqP4apl80CML",
        "outputId": "d3bddcc8-3a94-4d93-b7bb-9efaa12c9671"
      },
      "source": [
        "#ejemplo 1.10\n",
        "BASE = 0 \n",
        "ALTU = 0\n",
        "\n",
        "BASE = int(input(\"Numero:\"))\n",
        "ALTU = int(input(\"Numero:\"))\n",
        "\n",
        "Sup = (BASE * ALTU)\n",
        "PER = 2 * (BASE + ALTU)\n",
        "print(\"El área es:\", Sup, \"y\", \"El perimetro es:\", PER)"
      ],
      "execution_count": 21,
      "outputs": [
        {
          "output_type": "stream",
          "text": [
            "Numero:4\n",
            "Numero:3\n",
            "El área es: 12 y El perimetro es: 14\n"
          ],
          "name": "stdout"
        }
      ]
    }
  ]
}