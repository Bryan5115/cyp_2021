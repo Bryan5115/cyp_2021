{
  "nbformat": 4,
  "nbformat_minor": 0,
  "metadata": {
    "colab": {
      "name": "28_enero_CyP.ipynb",
      "provenance": [],
      "authorship_tag": "ABX9TyP+SMYjAI7DWPy803eDRoG1",
      "include_colab_link": true
    },
    "kernelspec": {
      "name": "python3",
      "display_name": "Python 3"
    }
  },
  "cells": [
    {
      "cell_type": "markdown",
      "metadata": {
        "id": "view-in-github",
        "colab_type": "text"
      },
      "source": [
        "<a href=\"https://colab.research.google.com/github/Bryan5115/cyp_2021/blob/main/28_enero_CyP.ipynb\" target=\"_parent\"><img src=\"https://colab.research.google.com/assets/colab-badge.svg\" alt=\"Open In Colab\"/></a>"
      ]
    },
    {
      "cell_type": "markdown",
      "metadata": {
        "id": "JAYsgZEOBi5U"
      },
      "source": [
        "# Tuplas\r\n",
        "\r\n",
        "- Tipo de dato lineal, estructura de datos\r\n",
        "- No mutable\r\n",
        "- Puede contener de 0 a n elementos\r\n",
        "- Se declara con '(' y ')' \r\n",
        "- No puedes agregar, ni eliminar elementos.\r\n",
        "- Pueden ser anidadas\r\n",
        "- Los argumentos a una función son enviadas como tuplas."
      ]
    },
    {
      "cell_type": "code",
      "metadata": {
        "colab": {
          "base_uri": "https://localhost:8080/"
        },
        "id": "9F_GJHtVCPt_",
        "outputId": "8923d236-9a7f-4bcc-cd21-8236653d5f08"
      },
      "source": [
        "frutas= ('Sandía', 'Melon', 'Limon', 'Mango')\r\n",
        "print(frutas)\r\n",
        "print(frutas[1:3:1])\r\n",
        "print(frutas.count('Manzana'))\r\n",
        "\r\n",
        "# Son inmutables\r\n",
        "#frutas[1] = \"manzana\"\r\n",
        "\r\n",
        "# para que se usan?\r\n",
        "conexion = ('132.248.12.12', 3306, 'cyp_bd', 'user_test', '1234Dios')\r\n",
        "print(f\"usuario:{ conexion[3] } y passwd: {conexion[4]}\")\r\n"
      ],
      "execution_count": 11,
      "outputs": [
        {
          "output_type": "stream",
          "text": [
            "('Sandía', 'Melon', 'Limon', 'Mango')\n",
            "('Melon', 'Limon')\n",
            "0\n",
            "usuario:user_test y passwd: 1234Dios\n"
          ],
          "name": "stdout"
        }
      ]
    },
    {
      "cell_type": "code",
      "metadata": {
        "colab": {
          "base_uri": "https://localhost:8080/"
        },
        "id": "x8Iez6SUDYnK",
        "outputId": "a10cadbf-fb4f-48c3-edd5-37ad3de72afa"
      },
      "source": [
        "print(dir(frutas))"
      ],
      "execution_count": 5,
      "outputs": [
        {
          "output_type": "stream",
          "text": [
            "['__add__', '__class__', '__contains__', '__delattr__', '__dir__', '__doc__', '__eq__', '__format__', '__ge__', '__getattribute__', '__getitem__', '__getnewargs__', '__gt__', '__hash__', '__init__', '__init_subclass__', '__iter__', '__le__', '__len__', '__lt__', '__mul__', '__ne__', '__new__', '__reduce__', '__reduce_ex__', '__repr__', '__rmul__', '__setattr__', '__sizeof__', '__str__', '__subclasshook__', 'count', 'index']\n"
          ],
          "name": "stdout"
        }
      ]
    },
    {
      "cell_type": "markdown",
      "metadata": {
        "id": "1E28RYpaFso_"
      },
      "source": [
        "# Diccionarios\r\n",
        "- Estructura de datos semi lineal\r\n",
        "- formada por pares, llave-valor.\r\n",
        "- Equivalentes al tipo de gato JSON, de JavaScript.\r\n",
        "- Utiliza organizacion por funcion de dispersion\r\n",
        "- Se declara con los elementos '{' y '}'\r\n",
        "- El selector usa valores de tipo string (llave)\r\n",
        "- No se puede seleccionar por offset [1]\r\n",
        "- Son mutables\r\n"
      ]
    },
    {
      "cell_type": "code",
      "metadata": {
        "colab": {
          "base_uri": "https://localhost:8080/"
        },
        "id": "SqLjf0tCG6kN",
        "outputId": "44c2dc5c-6218-4053-8d15-75ffd6adfae6"
      },
      "source": [
        "alumno = { 'nombre' : 'Juan Pérez', 'edad' : 18, 'Estatura' : 1.75, 'N. de cuenta' : 318180386, 'Tel' : 5563231612 }\r\n",
        "print(alumno)\r\n",
        "print( alumno['nombre'] )\r\n",
        "print(f\"celular del alumno: {alumno['Tel']}\")"
      ],
      "execution_count": 22,
      "outputs": [
        {
          "output_type": "stream",
          "text": [
            "{'nombre': 'Juan Pérez', 'edad': 18, 'Estatura': 1.75, 'N. de cuenta': 318180386, 'Tel': 5563231612}\n",
            "Juan Pérez\n",
            "celular del alumno: 5563231612\n"
          ],
          "name": "stdout"
        }
      ]
    },
    {
      "cell_type": "code",
      "metadata": {
        "colab": {
          "base_uri": "https://localhost:8080/"
        },
        "id": "Q6AcwTENYiOa",
        "outputId": "a796d1c3-1631-4e6a-ed05-e62581d773ff"
      },
      "source": [
        "alumno = {'nombre' : 'Juan Pérez',\r\n",
        "          'edad' : 18, \r\n",
        "          'Matricula': 312193,\r\n",
        "          'calificaciones' : {'Mate: 8', 'ciencias: 9', 'ingles: 8'},\r\n",
        "          'aprovado' : True,\r\n",
        "          'direccion':{\r\n",
        "              'calle' : 'Rancho seco',\r\n",
        "              'numero' : 's/n',\r\n",
        "              'colonia' : 'Impulsora',\r\n",
        "              'municipio' : 'Mi-nezota',\r\n",
        "              'estado' : {\r\n",
        "                          'clave' : 15,\r\n",
        "                          'nombre_clave' : 'Mex',\r\n",
        "                          'nombre' : \"Estado de México\"}\r\n",
        "          }\r\n",
        "}\r\n",
        "\r\n",
        "print(alumno['nombre'])"
      ],
      "execution_count": 108,
      "outputs": [
        {
          "output_type": "stream",
          "text": [
            "Juan Pérez\n"
          ],
          "name": "stdout"
        }
      ]
    },
    {
      "cell_type": "code",
      "metadata": {
        "colab": {
          "base_uri": "https://localhost:8080/"
        },
        "id": "Ewown5HJVH1E",
        "outputId": "963a573e-f4ef-45f2-8675-212ce31f4e52"
      },
      "source": [
        "funciones = dir(dict)\r\n",
        "for funcion in funciones:\r\n",
        "  print(funcion)"
      ],
      "execution_count": 54,
      "outputs": [
        {
          "output_type": "stream",
          "text": [
            "__class__\n",
            "__contains__\n",
            "__delattr__\n",
            "__delitem__\n",
            "__dir__\n",
            "__doc__\n",
            "__eq__\n",
            "__format__\n",
            "__ge__\n",
            "__getattribute__\n",
            "__getitem__\n",
            "__gt__\n",
            "__hash__\n",
            "__init__\n",
            "__init_subclass__\n",
            "__iter__\n",
            "__le__\n",
            "__len__\n",
            "__lt__\n",
            "__ne__\n",
            "__new__\n",
            "__reduce__\n",
            "__reduce_ex__\n",
            "__repr__\n",
            "__setattr__\n",
            "__setitem__\n",
            "__sizeof__\n",
            "__str__\n",
            "__subclasshook__\n",
            "clear\n",
            "copy\n",
            "fromkeys\n",
            "get\n",
            "items\n",
            "keys\n",
            "pop\n",
            "popitem\n",
            "setdefault\n",
            "update\n",
            "values\n"
          ],
          "name": "stdout"
        }
      ]
    },
    {
      "cell_type": "markdown",
      "metadata": {
        "id": "UnlNHAAvVsqi"
      },
      "source": [
        "# Manipulacion de los pares llave valor.\r\n",
        "Para ello se emplean los métodos:\r\n",
        "- Keys() te regresa una tupla con los strings llave del diccionario\r\n",
        "- Valuea() Te regresa solo los valores\r\n",
        "- items() Te regresa los pares"
      ]
    },
    {
      "cell_type": "code",
      "metadata": {
        "colab": {
          "base_uri": "https://localhost:8080/"
        },
        "id": "jrV17JDAWHn1",
        "outputId": "80c1227b-56b2-4afd-d241-da84141885a1"
      },
      "source": [
        "print(alumno)\r\n",
        "llaves = alumno.keys()\r\n",
        "print(llaves)\r\n",
        "for elem in llaves:\r\n",
        "  print(elem)\r\n",
        "  print(alumno[elem])\r\n",
        "#print(help(llaves))\r\n",
        "\r\n",
        "\r\n",
        "# manipular los valores\r\n",
        "valores = alumno.values()\r\n",
        "print(valores)\r\n",
        "print(\".-.-.-.-.-.-\")\r\n",
        "for val in valores:\r\n",
        "  print(val)\r\n",
        "\r\n",
        "#manipular pares\r\n",
        "pares = alumno.items()\r\n",
        "print(pares)\r\n",
        "for par in pares:\r\n",
        "  print(par)\r\n"
      ],
      "execution_count": 100,
      "outputs": [
        {
          "output_type": "stream",
          "text": [
            "{'nombre': 'Juan Pérez', 'edad': 18, 'Matricula': 312193, 'calificaciones': {'Mate: 8', 'ciencias: 9', 'ingles: 8'}, 'aprovado': True}\n",
            "dict_keys(['nombre', 'edad', 'Matricula', 'calificaciones', 'aprovado'])\n",
            "nombre\n",
            "Juan Pérez\n",
            "edad\n",
            "18\n",
            "Matricula\n",
            "312193\n",
            "calificaciones\n",
            "{'Mate: 8', 'ciencias: 9', 'ingles: 8'}\n",
            "aprovado\n",
            "True\n",
            "dict_values(['Juan Pérez', 18, 312193, {'Mate: 8', 'ciencias: 9', 'ingles: 8'}, True])\n",
            ".-.-.-.-.-.-\n",
            "Juan Pérez\n",
            "18\n",
            "312193\n",
            "{'Mate: 8', 'ciencias: 9', 'ingles: 8'}\n",
            "True\n",
            "dict_items([('nombre', 'Juan Pérez'), ('edad', 18), ('Matricula', 312193), ('calificaciones', {'Mate: 8', 'ciencias: 9', 'ingles: 8'}), ('aprovado', True)])\n",
            "('nombre', 'Juan Pérez')\n",
            "('edad', 18)\n",
            "('Matricula', 312193)\n",
            "('calificaciones', {'Mate: 8', 'ciencias: 9', 'ingles: 8'})\n",
            "('aprovado', True)\n"
          ],
          "name": "stdout"
        }
      ]
    }
  ]
}