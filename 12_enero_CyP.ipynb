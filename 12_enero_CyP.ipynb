{
  "nbformat": 4,
  "nbformat_minor": 0,
  "metadata": {
    "colab": {
      "name": "12_enero_CyP.ipynb",
      "provenance": [],
      "authorship_tag": "ABX9TyNsVJdpgcbD9oF0wCTt5cO1",
      "include_colab_link": true
    },
    "kernelspec": {
      "name": "python3",
      "display_name": "Python 3"
    }
  },
  "cells": [
    {
      "cell_type": "markdown",
      "metadata": {
        "id": "view-in-github",
        "colab_type": "text"
      },
      "source": [
        "<a href=\"https://colab.research.google.com/github/Bryan5115/cyp_2021/blob/main/12_enero_CyP.ipynb\" target=\"_parent\"><img src=\"https://colab.research.google.com/assets/colab-badge.svg\" alt=\"Open In Colab\"/></a>"
      ]
    },
    {
      "cell_type": "markdown",
      "metadata": {
        "id": "06IpFtLbpVFb"
      },
      "source": [
        "#Introduccion a Python\r\n",
        "- Es un lenguaje creado en los 90's por Guido Van R.\r\n",
        "-En el 2000 python mejora y tienen nuevas caracteristicas\r\n",
        "- en el 2020 deja de ser la version oficial python 2.7 y solo se le dara soporte a python 3 en adelante.\r\n",
        "\r\n",
        "## Caracteristicas de python\r\n",
        "1. Lenguaje de proposito general.\r\n",
        "2. Interpretado y no compilado.\r\n",
        "3. Tipos de datos dinámicos. (numericos, cadena, bool, entre otros).\r\n",
        "4. Multiplataforma.\r\n",
        "5. Lenguaje multi-paradigma. (Imperativa, POO y funcional)\r\n",
        "6. Código es estructurado por indentación.\r\n",
        "\r\n",
        "```\r\n",
        "if a > 10:\r\n",
        "  print(\"Hola\")\r\n",
        "print(\"Hola dos\")\r\n",
        "```\r\n",
        "\r\n",
        "## Principios Zen de Python\r\n",
        "\r\n",
        "Son las caracteristicas que guian el diseño de lenguajes de programacion python\r\n"
      ]
    },
    {
      "cell_type": "code",
      "metadata": {
        "colab": {
          "base_uri": "https://localhost:8080/"
        },
        "id": "dkc08kpFuvOT",
        "outputId": "66f66fa4-2843-4691-cfb5-b4e85fc55a55"
      },
      "source": [
        "# Primer programa de pyhton 3\r\n",
        "\r\n",
        "nombre = \"José\"\r\n",
        "edad = 18\r\n",
        "print(\"Hola\",nombre, edad)"
      ],
      "execution_count": 2,
      "outputs": [
        {
          "output_type": "stream",
          "text": [
            "Hola José 18\n"
          ],
          "name": "stdout"
        }
      ]
    },
    {
      "cell_type": "markdown",
      "metadata": {
        "id": "zqrGAR8avs-N"
      },
      "source": [
        "# La funcion print()\r\n",
        "\r\n",
        "Es una de las funciones mas empleadas en programacion y busca enviar datos a la salida estandar(monitor)\r\n",
        "\r\n",
        "### Formas de uso\r\n",
        "1. Con comas\r\n",
        "1. Con signos\r\n",
        "1. .format()\r\n",
        "1. el operador f\"\r\n",
        "\r\n",
        "### con comas\r\n",
        "concatena los argumentos enviados a print y les agrega un espacio.\r\n",
        "\r\n",
        "### con signos +\r\n",
        "concatena los valores sin espacio y sin hacer coversión de tipos.\r\n",
        "\r\n",
        "### con la funcion format()\r\n",
        "Permite darle formato a la salida de la impresion de variables. Emplea la funcion format de el tipo de dato string.\r\n",
        "```\r\n",
        "\"cadena {} a {} forma{}tear \".format(v1,v2,vn)\r\n",
        "```\r\n",
        "\r\n",
        "Emplea con comodines para sustituir valores los ginos {}\r\n",
        "\r\n",
        "\r\n",
        "### con el operador f\"\r\n",
        "\r\n",
        "es una variante de la forma anterior pero enmascarando la funcion format().\r\n",
        "print(f\"adasd {var} asdasd{var2} asdasda{varn}\")\r\n",
        "\r\n"
      ]
    },
    {
      "cell_type": "code",
      "metadata": {
        "colab": {
          "base_uri": "https://localhost:8080/"
        },
        "id": "KzGAJ08dyCZ7",
        "outputId": "e9d4210f-6bca-49a1-c6e9-df38e14fb622"
      },
      "source": [
        "print(\"hola\", nombre, edad)\r\n",
        "print(\"hola\" + nombre + \"\"+ str(edad))\r\n",
        "#Nombre jose, con una edad de 18 años\r\n",
        "print(\"Nombre:\", nombre, \"con una edad de:\", edad, \"años\")\r\n",
        "# con format()\r\n",
        "print(\"nombre: {}, con una edad de: {} años.\".format(nombre,edad))\r\n",
        "#con operador f\"\r\n",
        "print(f\"Nombre: {nombre} con una edad de: {edad} años.\")"
      ],
      "execution_count": 5,
      "outputs": [
        {
          "output_type": "stream",
          "text": [
            "hola José 18\n",
            "holaJosé18\n",
            "Nombre: José con una edad de: 18 años\n",
            "nombre: José, con una edad de: 18 años.\n",
            "Nombre: José con una edad de: 18 años.\n"
          ],
          "name": "stdout"
        }
      ]
    },
    {
      "cell_type": "markdown",
      "metadata": {
        "id": "uwKfgkUd2QB7"
      },
      "source": [
        "# Funcion print() y los caracteres de escape.\r\n",
        "- \\n salto de linea\r\n",
        "- \\t tabulador\r\n",
        "- \\imprimir la diagonal \r\n",
        "- 'y\"\r\n",
        "- \\uxxxx\r\n",
        "- \\uxxxxxxxx"
      ]
    },
    {
      "cell_type": "code",
      "metadata": {
        "colab": {
          "base_uri": "https://localhost:8080/"
        },
        "id": "H4TPLShK3DN2",
        "outputId": "1cd00265-1d97-467f-ff7d-5ab7c4675611"
      },
      "source": [
        "print('\"')\r\n",
        "print(\"\\\"\")\r\n",
        "print(\"Nombre : Jose\\n\\tcon una edad de: 18 años.\")\r\n",
        "#caracteres unicode\r\n",
        "\r\n",
        "print(\"Hola \\u2618\")"
      ],
      "execution_count": 16,
      "outputs": [
        {
          "output_type": "stream",
          "text": [
            "\"\n",
            "\"\n",
            "Nombre : Jose\n",
            "\tcon una edad de: 18 años.\n",
            "Hola ☘\n"
          ],
          "name": "stdout"
        }
      ]
    },
    {
      "cell_type": "markdown",
      "metadata": {
        "id": "JJjtx2Vg8F0N"
      },
      "source": [
        "# print y salto de linea en el argumento\r\n",
        "\r\n",
        "print([lista de variables] , end=\"\\n\")"
      ]
    },
    {
      "cell_type": "code",
      "metadata": {
        "colab": {
          "base_uri": "https://localhost:8080/"
        },
        "id": "Hfv2PtlV8WwE",
        "outputId": "42e927cc-9288-404d-82e7-071c724fd4c8"
      },
      "source": [
        "print(\"Hola \", end=\"\\u13cd\")\r\n",
        "print(\"Mundo \", end=\"\")\r\n",
        "print(\"Fin\", end=\"\\n\")"
      ],
      "execution_count": 22,
      "outputs": [
        {
          "output_type": "stream",
          "text": [
            "Hola ᏍMundo Fin\n"
          ],
          "name": "stdout"
        }
      ]
    },
    {
      "cell_type": "markdown",
      "metadata": {
        "id": "4VqM1XlB9kEc"
      },
      "source": [
        "# comentarios en Python\r\n",
        "un comentario en programacion, es un texto especial que es ignorado por el interprete o compilador (segun sea el caso) y es empleado para que el programador documente sus algoritmos.\r\n",
        "\r\n",
        "Existen de dos tipos: De linea simple y de multiple linea\r\n",
        "\r\n",
        "En python\r\n",
        "- linea simple emplea #\r\n",
        "```\r\n",
        "#comentario de linea simple\r\n",
        "```\r\n",
        "- linea multiple\r\n",
        "```\r\n",
        "\"\"\"\r\n",
        "esto\r\n",
        "es un comentario de\r\n",
        "linea\r\n",
        "multiple\r\n",
        "\"\"\"\r\n",
        "```\r\n",
        "\r\n"
      ]
    },
    {
      "cell_type": "code",
      "metadata": {
        "colab": {
          "base_uri": "https://localhost:8080/"
        },
        "id": "MZ_i_kLV-i1v",
        "outputId": "40326252-8b79-4039-e8fc-7efc0d13f7b2"
      },
      "source": [
        "print(\"Hola\")\r\n",
        "#print(\"Hola\")\r\n",
        "# cualquier cosa\r\n",
        "print(\"Hola\")\r\n",
        "print(\"Hola\") #esta linea imprime hola\r\n",
        "print(\"Hola\")\r\n",
        "print(\"Hola\")\r\n",
        "\r\n",
        "\"\"\"\r\n",
        "esto es\r\n",
        "un comentario de multiples lineas. ideal \r\n",
        "para cuando se desea explicar algo a fondo que requiera mayor detalle.\r\n",
        "\"\"\"\r\n",
        "print(\"Hola\")\r\n",
        "print(\"Hola\")"
      ],
      "execution_count": 26,
      "outputs": [
        {
          "output_type": "stream",
          "text": [
            "Hola\n",
            "Hola\n",
            "Hola\n",
            "Hola\n",
            "Hola\n",
            "Hola\n",
            "Hola\n"
          ],
          "name": "stdout"
        }
      ]
    }
  ]
}