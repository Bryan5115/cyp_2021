{
  "nbformat": 4,
  "nbformat_minor": 0,
  "metadata": {
    "colab": {
      "name": "Tarea3.ipynb",
      "provenance": [],
      "authorship_tag": "ABX9TyP0diNwb5/+ULYgIWd6D6Ia",
      "include_colab_link": true
    },
    "kernelspec": {
      "name": "python3",
      "display_name": "Python 3"
    }
  },
  "cells": [
    {
      "cell_type": "markdown",
      "metadata": {
        "id": "view-in-github",
        "colab_type": "text"
      },
      "source": [
        "<a href=\"https://colab.research.google.com/github/Bryan5115/cyp_2021/blob/main/Tarea3.ipynb\" target=\"_parent\"><img src=\"https://colab.research.google.com/assets/colab-badge.svg\" alt=\"Open In Colab\"/></a>"
      ]
    },
    {
      "cell_type": "code",
      "metadata": {
        "colab": {
          "base_uri": "https://localhost:8080/"
        },
        "id": "SorUfQfhlumZ",
        "outputId": "c9c750a7-4d00-4dc5-d67a-32a25dc48fee"
      },
      "source": [
        "#Problema 1.1\n",
        "\n",
        "PREPRO = float(input(\"Precio del producto:\"))\n",
        "PAGO = float(input(\"Cantidad que pagas:\"))\n",
        "DEVO = (PAGO - PREPRO)\n",
        "\n",
        "print(\"El cambio es de:\", DEVO)"
      ],
      "execution_count": 6,
      "outputs": [
        {
          "output_type": "stream",
          "text": [
            "Precio del producto:49.20\n",
            "Cantidad que pagas:100\n",
            "El cambio es de: 50.8\n"
          ],
          "name": "stdout"
        }
      ]
    },
    {
      "cell_type": "code",
      "metadata": {
        "colab": {
          "base_uri": "https://localhost:8080/"
        },
        "id": "yDJetaV5nKWP",
        "outputId": "14d081da-6de2-42dc-e280-d110464fd6e0"
      },
      "source": [
        "#Problema 1.2\n",
        "\n",
        "BASE = float(input(\"Dame la base:\"))\n",
        "ALTU = float(input(\"Dame la altura:\"))\n",
        "\n",
        "SUP = (BASE * ALTU) / 2\n",
        "print(\"La superficie del triángulo es\", SUP)"
      ],
      "execution_count": 8,
      "outputs": [
        {
          "output_type": "stream",
          "text": [
            "Dame la base:120.60\n",
            "Dame la altura:85.90\n",
            "La superficie del triángulo es 5179.77\n"
          ],
          "name": "stdout"
        }
      ]
    },
    {
      "cell_type": "code",
      "metadata": {
        "colab": {
          "base_uri": "https://localhost:8080/"
        },
        "id": "Khxl0-5Tp1DI",
        "outputId": "67d6ba41-678c-4c99-dbc9-a6dfefb430db"
      },
      "source": [
        "#Problema 1.3\n",
        "\n",
        "NOM = input(\"Nombre del dinosaurio:\")\n",
        "PES = float(input(\"Peso en lb:\"))\n",
        "LON = float(input(\"Longitud en Pies:\"))\n",
        "\n",
        "KIL = (PES * 1000)\n",
        "MET = (LON * 0.3047)\n",
        "\n",
        "print(NOM)\n",
        "print(\"El peso en kilos es:\", KIL)\n",
        "print(\"La longitud en metros es:\", MET)\n"
      ],
      "execution_count": 11,
      "outputs": [
        {
          "output_type": "stream",
          "text": [
            "Nombre del dinosaurio:DIPLOJOCUS\n",
            "Peso en lb:15\n",
            "Longitud en Pies:90\n",
            "DIPLOJOCUS\n",
            "El peso en kilos es: 15000.0\n",
            "La longitud en metros es: 27.423000000000002\n"
          ],
          "name": "stdout"
        }
      ]
    },
    {
      "cell_type": "code",
      "metadata": {
        "colab": {
          "base_uri": "https://localhost:8080/"
        },
        "id": "4U-pUZI1p2iP",
        "outputId": "e06c5f51-b931-44a9-f93a-adb20408fa7e"
      },
      "source": [
        "#Problema 1.4\n",
        "\n",
        "GAL = float(input(\"Galones de gasolina:\"))\n",
        "\n",
        "Total = (GAL * 3.785 * 8.20)\n",
        "\n",
        "print(\"El total a pagar es de:\", Total)"
      ],
      "execution_count": 14,
      "outputs": [
        {
          "output_type": "stream",
          "text": [
            "Galones de gasolina:8.40\n",
            "El total a pagar es de: 260.7108\n"
          ],
          "name": "stdout"
        }
      ]
    },
    {
      "cell_type": "code",
      "metadata": {
        "colab": {
          "base_uri": "https://localhost:8080/"
        },
        "id": "TBZ4IcqitLzs",
        "outputId": "7e56b45e-7c67-44bd-f75c-f8119205f19a"
      },
      "source": [
        "#Problema 1.5\n",
        "\n",
        "Radio = float(input(\"Dame el radio del cilindro: \"))\n",
        "Altu = float(input(\"Dame la altura del cilindro: \"))\n",
        "\n",
        "Vol = (3.1416 * Radio ** 2 * Altu)\n",
        "Sup = (2 * 3.1416 * Radio * Altu)\n",
        "\n",
        "print(\"El volumen del cilindro es de: \", Vol)\n",
        "print(\"El área del cilindro es de: \", Sup)\n"
      ],
      "execution_count": 18,
      "outputs": [
        {
          "output_type": "stream",
          "text": [
            "Dame el radio del cilindro: 45.22\n",
            "Dame la altura del cilindro: 11.60\n",
            "El volumen del cilindro es de:  74519.510507904\n",
            "El área del cilindro es de:  3295.8651264\n"
          ],
          "name": "stdout"
        }
      ]
    },
    {
      "cell_type": "code",
      "metadata": {
        "colab": {
          "base_uri": "https://localhost:8080/"
        },
        "id": "NwC-YcjcuueZ",
        "outputId": "e5f9ab5a-8cce-420b-c4b7-63e8b627881f"
      },
      "source": [
        "#Problema 1.6\n",
        "\n",
        "Dias = int(input(\"¿Cuantos dias?: \"))\n",
        "\n",
        "Seg = 86400 * Dias #Hay 86400 segundos en un día\n",
        "\n",
        "print(\"El numero de segundos que hay en esos dias es de:\", Seg)"
      ],
      "execution_count": 21,
      "outputs": [
        {
          "output_type": "stream",
          "text": [
            "¿Cuantos dias?: 116\n",
            "El numero de segundos que hay en esos dias es de: 10022400\n"
          ],
          "name": "stdout"
        }
      ]
    }
  ]
}