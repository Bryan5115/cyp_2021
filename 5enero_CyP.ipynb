{
  "nbformat": 4,
  "nbformat_minor": 0,
  "metadata": {
    "colab": {
      "name": "5enero_CyP.ipynb",
      "provenance": [],
      "collapsed_sections": [],
      "authorship_tag": "ABX9TyP1OC5uP022//NbHLFGCHrx",
      "include_colab_link": true
    },
    "kernelspec": {
      "name": "python3",
      "display_name": "Python 3"
    }
  },
  "cells": [
    {
      "cell_type": "markdown",
      "metadata": {
        "id": "view-in-github",
        "colab_type": "text"
      },
      "source": [
        "<a href=\"https://colab.research.google.com/github/Bryan5115/cyp_2021/blob/main/5enero_CyP.ipynb\" target=\"_parent\"><img src=\"https://colab.research.google.com/assets/colab-badge.svg\" alt=\"Open In Colab\"/></a>"
      ]
    },
    {
      "cell_type": "code",
      "metadata": {
        "colab": {
          "base_uri": "https://localhost:8080/"
        },
        "id": "A9Q_1UsEjV9J",
        "outputId": "2f3c416d-4c26-4113-b6eb-2efad77334a0"
      },
      "source": [
        "sueldos = [0.0 for x in range(7)]\r\n",
        "print(sueldos)\r\n",
        "sueldos[0] = 12.3\r\n",
        "sueldos[1] = 32.3\r\n",
        "sueldos[2] = 43.3\r\n",
        "sueldos[3] = 11.3\r\n",
        "sueldos[4] = 77.3\r\n",
        "sueldos[5] = 88.3\r\n",
        "sueldos[6] = 99.3\r\n",
        "print(sueldos)\r\n",
        "# Como hacemos para asignarles valor del 1.0 a 7.0\r\n",
        "# con una estructura for\r\n",
        "\"\"\"\r\n",
        "for j in range(7):\r\n",
        "  sueldos[j]= float(input(\"Introduce un sueldo: \"))\r\n",
        "print(sueldos)\r\n",
        "\"\"\"\r\n",
        "#otra solucion\r\n",
        "sueldos = [float(x) for x in range (7)]\r\n",
        "for i in range(0,7):\r\n",
        "  sueldos[i] = float(i)+1.0\r\n",
        "\r\n",
        "print(sueldos) \r\n",
        "\r\n",
        "#automatizar el recorrido de los elemnt\r\n",
        "\r\n",
        "\r\n",
        "for i in range(7):\r\n",
        "  print(f\"el trabajador {int(i)+1} gana $\", sueldos)"
      ],
      "execution_count": 21,
      "outputs": [
        {
          "output_type": "stream",
          "text": [
            "[0.0, 0.0, 0.0, 0.0, 0.0, 0.0, 0.0]\n",
            "[12.3, 32.3, 43.3, 11.3, 77.3, 88.3, 99.3]\n",
            "[1.0, 2.0, 3.0, 4.0, 5.0, 6.0, 7.0]\n"
          ],
          "name": "stdout"
        }
      ]
    },
    {
      "cell_type": "code",
      "metadata": {
        "colab": {
          "base_uri": "https://localhost:8080/"
        },
        "id": "uTfLAG5OovoQ",
        "outputId": "415cf0df-de78-4a05-e758-fa6eaa762c33"
      },
      "source": [
        "#Ejemplo 4.1\r\n",
        "\r\n",
        "maximo = 7\r\n",
        "sueldos = [0.0 for x in range(maximo)]\r\n",
        "suma = 0.0\r\n",
        "promedio = 0.0\r\n",
        "\r\n",
        "for i in range(maximo):\r\n",
        "  sueldos[i] = float(input(\"Dame el sueldo: \"))\r\n",
        "\r\n",
        "for i in range(maximo):\r\n",
        "  print(f\"Trabajador {i+1}, gana : {sueldos[i]}\")\r\n",
        "\r\n",
        "for i in range(maximo):\r\n",
        "  suma = suma + sueldos[i]\r\n",
        "\r\n",
        "promedio = suma/maximo\r\n",
        "\r\n",
        "print(f\"el promedio del sueldo es ${promedio}\")\r\n",
        "\r\n",
        "for i in range(7):\r\n",
        "  if sueldos[i] > promedio:\r\n",
        "    print(f\"El trabajador {i+1} tiene un sueldo mayor al promedio\")\r\n",
        "\r\n"
      ],
      "execution_count": null,
      "outputs": [
        {
          "output_type": "stream",
          "text": [
            "Dame el sueldo: 4\n",
            "Dame el sueldo: 5\n",
            "Dame el sueldo: 4\n",
            "Dame el sueldo: 5\n",
            "Dame el sueldo: 4\n",
            "Dame el sueldo: 5\n",
            "Dame el sueldo: 4\n",
            "Trabajador 1, gana : 4.0\n",
            "Trabajador 2, gana : 5.0\n",
            "Trabajador 3, gana : 4.0\n",
            "Trabajador 4, gana : 5.0\n",
            "Trabajador 5, gana : 4.0\n",
            "Trabajador 6, gana : 5.0\n",
            "Trabajador 7, gana : 4.0\n",
            "el promedio del sueldo es $4.428571428571429\n",
            "El trabajador 2 tiene un sueldo mayor al promedio\n",
            "El trabajador 4 tiene un sueldo mayor al promedio\n",
            "El trabajador 6 tiene un sueldo mayor al promedio\n"
          ],
          "name": "stdout"
        }
      ]
    },
    {
      "cell_type": "code",
      "metadata": {
        "colab": {
          "base_uri": "https://localhost:8080/"
        },
        "id": "TbHW4bdLs453",
        "outputId": "20b1958f-c216-4c89-e804-36734d21300d"
      },
      "source": [
        "# hacer un programa que solicite 5 valores enteros positivos y\r\n",
        "# una vez que se capture por teclado, el programa determine:\r\n",
        "# 1. cual es el mayor\r\n",
        "# 2. cual es el menor\r\n",
        "# 3. cual es el promedio\r\n",
        "\r\n",
        "num= 5\r\n",
        "valores= [0 for x in range(num)]\r\n",
        "num_mayor= 0\r\n",
        "num_menor= 1000\r\n",
        "suma= 0\r\n",
        "\r\n",
        "for i in range(num):\r\n",
        "  valores[i]= int (input(f\"Dame el valor {i + 1}: \"))\r\n",
        "  suma= suma + valores[i]\r\n",
        "  if valores[i] > num_mayor:\r\n",
        "    num_mayor = valores [i]\r\n",
        "  if valores[i] < num_menor:\r\n",
        "    num_menor= valores[i]\r\n",
        "promedio= suma/num\r\n",
        "\r\n",
        "print(f''' El mayor de los número es: {num_mayor}\r\n",
        "El menor de los núumeros es: {num_menor}\r\n",
        "El promedio es: {promedio}''')\r\n"
      ],
      "execution_count": null,
      "outputs": [
        {
          "output_type": "stream",
          "text": [
            "Dame el valor 1: 1\n",
            "Dame el valor 2: 2\n",
            "Dame el valor 3: 3\n",
            "Dame el valor 4: 4\n",
            "Dame el valor 5: 5\n",
            " El mayor de los número es: 5\n",
            "El menor de los núumeros es: 1\n",
            "El promedio es: 3.0\n"
          ],
          "name": "stdout"
        }
      ]
    },
    {
      "cell_type": "code",
      "metadata": {
        "colab": {
          "base_uri": "https://localhost:8080/"
        },
        "id": "Q-FG4uUtwA25",
        "outputId": "a16b390e-ed81-4529-cdf2-959c85d192bb"
      },
      "source": [
        "#Problema 4.1\r\n",
        "N = int(input(\"Ingrese el numero de elementos de arreglos: \"))\r\n",
        "Vec = []\r\n",
        "if 1 <= N and N <= 500:\r\n",
        "  Vec = [0 for x in range(N)]\r\n",
        "  for I in range(N):\r\n",
        "    Vec[I]= int(input(\"ingrese valor \" + str(I + 1) + \":\"))\r\n",
        "  print(\"Lista de numeros sin repeticiones:\")\r\n",
        "\r\n",
        "  I = 0\r\n",
        "  while I < N:\r\n",
        "    print(Vec[I])\r\n",
        "    REPET = Vec[I]\r\n",
        "    while I < N and REPET == Vec[I]:\r\n",
        "      I = I + 1\r\n",
        "\r\n",
        "    I = I+1\r\n",
        "\r\n",
        "else:\r\n",
        "  print(\"El numero de elementos del arreglo es incorrecto\")\r\n"
      ],
      "execution_count": null,
      "outputs": [
        {
          "output_type": "stream",
          "text": [
            "Ingrese el numero de elementos de arreglos: 10\n",
            "ingrese valor 1:2\n",
            "ingrese valor 2:3\n",
            "ingrese valor 3:3\n",
            "ingrese valor 4:3\n",
            "ingrese valor 5:10\n",
            "ingrese valor 6:20\n",
            "ingrese valor 7:20\n",
            "ingrese valor 8:40\n",
            "ingrese valor 9:43\n",
            "ingrese valor 10:51\n",
            "Lista de numeros sin repeticiones:\n",
            "2\n",
            "3\n",
            "20\n",
            "43\n"
          ],
          "name": "stdout"
        }
      ]
    }
  ]
}