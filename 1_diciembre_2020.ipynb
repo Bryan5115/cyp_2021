{
  "nbformat": 4,
  "nbformat_minor": 0,
  "metadata": {
    "colab": {
      "name": "1_diciembre_2020.ipynb",
      "provenance": [],
      "authorship_tag": "ABX9TyNKnhpr39Hb9nna66cNg+Td",
      "include_colab_link": true
    },
    "kernelspec": {
      "name": "python3",
      "display_name": "Python 3"
    }
  },
  "cells": [
    {
      "cell_type": "markdown",
      "metadata": {
        "id": "view-in-github",
        "colab_type": "text"
      },
      "source": [
        "<a href=\"https://colab.research.google.com/github/Bryan5115/cyp_2021/blob/main/1_diciembre_2020.ipynb\" target=\"_parent\"><img src=\"https://colab.research.google.com/assets/colab-badge.svg\" alt=\"Open In Colab\"/></a>"
      ]
    },
    {
      "cell_type": "code",
      "metadata": {
        "colab": {
          "base_uri": "https://localhost:8080/"
        },
        "id": "sddblUeCTJ_J",
        "outputId": "9ea543f4-065e-400e-e43e-16a3db97d1df"
      },
      "source": [
        "#Ejemplo 1\n",
        "#Pedir 3 numeros enteros y mostrar el mayor de los tres\n",
        "\n",
        "numero1 = int(input(\"Introduce el primer numero: \"))\n",
        "numero2 = int(input(\"Introduce el segundo numero: \"))\n",
        "numero3 = int(input(\"Introduce el tercer numero: \"))\n",
        "\n",
        "if numero1 >= numero2 and numero1>=numero3:\n",
        "   print(numero1, \"es mayor\")\n",
        "\n",
        "elif numero2 >= numero1 and numero2 >=numero3:\n",
        "  print(numero2, \"es el mayor\")"
      ],
      "execution_count": 4,
      "outputs": [
        {
          "output_type": "stream",
          "text": [
            "Introduce el primer numero: 9\n",
            "Introduce el segundo numero: 3\n",
            "Introduce el tercer numero: 4\n",
            "9 es mayor\n"
          ],
          "name": "stdout"
        }
      ]
    },
    {
      "cell_type": "code",
      "metadata": {
        "colab": {
          "base_uri": "https://localhost:8080/"
        },
        "id": "1Oay12_hVZYc",
        "outputId": "c7a7fc12-9613-4b94-a569-9edcf2c5f6f0"
      },
      "source": [
        "#Ejemplo 2\n",
        "print(\"Ingrese el nombre del trabajador:\")\n",
        "nombre =str(input())\n",
        "print(\"Cuantas horas trabajo esta semana\", nombre,\":\")\n",
        "horas =int(input())\n",
        "print(\"Cuanto se paga por hora?: \")\n",
        "sueldoH = float(input())\n",
        "\n",
        "#Evaluar el sueldo\n",
        "\n",
        "if(horas<=40):\n",
        "  pago = horas * sueldoH\n",
        "  print(\"El sueldo final de \", nombre, \"Es $\", pago)\n",
        "\n",
        "else:\n",
        "  extras = horas - 40\n",
        "  pago = 40 * sueldoH\n",
        "  pagoFinal = pago + ((extras*SueldoH)*2) \n",
        "  print(nombre,\"Su pago total es de $\",pagoFinal)\n"
      ],
      "execution_count": 11,
      "outputs": [
        {
          "output_type": "stream",
          "text": [
            "Ingrese el nombre del trabajador:\n",
            "lucia\n",
            "Cuantas horas trabajo esta semana lucia :\n",
            "39\n",
            "Cuanto se paga por hora?: \n",
            "10\n",
            "El sueldo final de  lucia Es $ 390.0\n"
          ],
          "name": "stdout"
        }
      ]
    },
    {
      "cell_type": "code",
      "metadata": {
        "id": "kIkjfxRPcJes"
      },
      "source": [
        ""
      ],
      "execution_count": null,
      "outputs": []
    },
    {
      "cell_type": "code",
      "metadata": {
        "colab": {
          "base_uri": "https://localhost:8080/"
        },
        "id": "MkRxsqIkaeZC",
        "outputId": "fef8b592-e165-4b43-d642-31249a410ff5"
      },
      "source": [
        "#Ejemplo 3\n",
        "#Calcular el salario semanal de x trabajador\n",
        "#El salario semanal se calcula en base a las horas semanales trabajadas\n",
        "#El pago por hora es variable (se pide por teclado)\n",
        "#Si las horas trabajadas superan las 40 horas, el pago por hora extra es:\n",
        "#Doble en el rango de 41horas a 50horas\n",
        "#Triple en el rango de 51horas a 60 horas\n",
        "#Incentivo de $2000 si rebasa las 60 horas.\n",
        "\n",
        "print(\"Ingrese el nombre del Empleado:\")\n",
        "nombre =str(input())\n",
        "print(\"Cuantas horas trabajo esta semana\", nombre,\":\")\n",
        "horas =int(input())\n",
        "print(\"Cuanto se paga por hora?: \")\n",
        "sueldoH = float(input())\n",
        "\n",
        "#Evaluar el sueldo\n",
        "\n",
        "if(horas<=40):\n",
        "  pago = horas * sueldoH\n",
        "  print(\"El sueldo final de \", nombre, \"Es $\", pago)\n",
        "\n",
        "elif(horas > 40 and horas <= 50):\n",
        "  extrasDobles = horas - 40\n",
        "  print(\"Horas extra dobles: \" , extrasDobles)\n",
        "  pago = 40 * sueldoH\n",
        "  print(\"sueldo base:$\", pago)\n",
        "  pagoDoble= extrasDobles * sueldoH *2\n",
        "  print(\"pago de horas dobles:$\", pagoDoble)\n",
        "  pagoFinal = pago + pagoDoble\n",
        "  print(\"El sueldo Final de : \", nombre, \"Es $\", pagoFinal)\n",
        "\n",
        "elif (horas >50 and horas <=60):\n",
        "  extrasTriple= horas - 50\n",
        "  print(\"horas extra dobles:10\")\n",
        "  print(\"horas extra triples:\", extrasTriple)\n",
        "  pago = 40 * sueldoH\n",
        "  print(\"sueldo base:$\", pago)\n",
        "  pagoDoble= 10 * sueldoH * 2\n",
        "  print(\"pago de horas extras dobles:\", pagoDoble)\n",
        "  pagoTriple= extrasTriple * sueldoH * 3\n",
        "  print(\"pago de horas extra triples:\", pagoTriple)\n",
        "  pagoFinal = pago + pagoDoble + pagoTriple\n",
        "  print(\"El sueldo Final de : \", nombre, \"Es $\", pagoFinal)\n",
        "\n",
        "else:\n",
        "  extrasTriples = 10\n",
        "  print(\"Horas extra dobles 10\")\n",
        "  print(\"Horas extra triples 10\")\n",
        "  pago= 40*sueldoH\n",
        "  print(\"Sueldo base:$\", pago)\n",
        "  pagoDoble = 10 * sueldoH * 2\n",
        "  print(\"Pago de horas extra Dobles:\", pagoDoble)\n",
        "  pagoTriple = extrasTriple * sueldoH * 3\n",
        "  print(\"pago de horas extra triples:\", pagoTriple)\n",
        "  print(\"Incetivo por trabajar mas de 60 horas:$  $2000\")\n",
        "  pagoFinal = pago + pagoDoble + pagoTriple + 2000\n",
        "  print(\"El sueldo Final de : \", nombre, \"Es $\", pagoFinal)\n"
      ],
      "execution_count": 18,
      "outputs": [
        {
          "output_type": "stream",
          "text": [
            "Ingrese el nombre del Empleado:\n",
            "Marshall\n",
            "Cuantas horas trabajo esta semana Marshall :\n",
            "40\n",
            "Cuanto se paga por hora?: \n",
            "10\n",
            "El sueldo final de  Marshall Es $ 400.0\n"
          ],
          "name": "stdout"
        }
      ]
    },
    {
      "cell_type": "code",
      "metadata": {
        "colab": {
          "base_uri": "https://localhost:8080/"
        },
        "id": "a5GGuKYCqg2_",
        "outputId": "105f2648-79e1-42a3-e699-8ccae215c0c3"
      },
      "source": [
        "#estructura for\n",
        "\n",
        "#Ejemplo 1\n",
        "\n",
        "for estaciones_año in [\"primavera\", \"verano\", \"otoño\", \"invierno\", \"venus\"]:\n",
        "  print(estaciones_año)"
      ],
      "execution_count": 33,
      "outputs": [
        {
          "output_type": "stream",
          "text": [
            "primavera\n",
            "verano\n",
            "otoño\n",
            "invierno\n",
            "venus\n"
          ],
          "name": "stdout"
        }
      ]
    },
    {
      "cell_type": "code",
      "metadata": {
        "colab": {
          "base_uri": "https://localhost:8080/"
        },
        "id": "PRhzCNiWry6w",
        "outputId": "9417fd30-e3b8-4aac-90a0-4c3ccdd7ef27"
      },
      "source": [
        "for estaciones_año in [\"primavera\", \"verano\", \"otoño\", \"invierno\", \"venus\"]:\n",
        "  print(\"Hola\")"
      ],
      "execution_count": 32,
      "outputs": [
        {
          "output_type": "stream",
          "text": [
            "Hola\n",
            "Hola\n",
            "Hola\n",
            "Hola\n",
            "Hola\n"
          ],
          "name": "stdout"
        }
      ]
    }
  ]
}