{
  "nbformat": 4,
  "nbformat_minor": 0,
  "metadata": {
    "colab": {
      "name": "Tarea4.ipynb",
      "provenance": [],
      "authorship_tag": "ABX9TyPUeQJ2HNLLDfULHeBIstDc",
      "include_colab_link": true
    },
    "kernelspec": {
      "name": "python3",
      "display_name": "Python 3"
    }
  },
  "cells": [
    {
      "cell_type": "markdown",
      "metadata": {
        "id": "view-in-github",
        "colab_type": "text"
      },
      "source": [
        "<a href=\"https://colab.research.google.com/github/Bryan5115/cyp_2021/blob/main/Tarea4.ipynb\" target=\"_parent\"><img src=\"https://colab.research.google.com/assets/colab-badge.svg\" alt=\"Open In Colab\"/></a>"
      ]
    },
    {
      "cell_type": "code",
      "metadata": {
        "colab": {
          "base_uri": "https://localhost:8080/"
        },
        "id": "y_YvoH6zwZHf",
        "outputId": "dab19594-3a83-404f-adf2-fb160458caf1"
      },
      "source": [
        "#Ejercicio 2.4\n",
        "\n",
        "Sue = float(input(\"Sueldo del trabajador: \"))\n",
        "\n",
        "if (Sue < 1000):\n",
        "  Aum = Sue * 0.15\n",
        "  Nsue = Aum + Sue\n",
        "  print(\"El nuevo sueldo del trabajador es de: \", Nsue)\n",
        "else:\n",
        "  Aum = Sue * 0.12\n",
        "  Nsue = Aum + Sue\n",
        "  print(\"El nuevo sueldo del trabajador es: \", Nsue)\n",
        "  "
      ],
      "execution_count": 6,
      "outputs": [
        {
          "output_type": "stream",
          "text": [
            "Sueldo del trabajador: 1000.00\n",
            "El nuevo sueldo del trabajador es:  1120.0\n"
          ],
          "name": "stdout"
        }
      ]
    },
    {
      "cell_type": "code",
      "metadata": {
        "colab": {
          "base_uri": "https://localhost:8080/"
        },
        "id": "YiOk4YNZ_sMQ",
        "outputId": "f8374f33-abef-416f-cfd0-628c10967b9b"
      },
      "source": [
        "#Ejercicio 2.8\n",
        "\n",
        "Cate = int (input(\"Categoria de el trabajador: \"))\n",
        "Sue = float(input(\"El sueldo del trabajador es: \"))\n",
        "\n",
        "if (Cate <= 1):\n",
        "  Nsue = Sue * 1.15\n",
        "  print(\"El nuevo sueldo con aumento de categoria\", Cate,\"es de:\",Nsue)\n",
        "\n",
        "elif (Cate <= 2):\n",
        "    Nsue = Sue * 1.10\n",
        "    print(\"El nuevo sueldo con aumento de categoria\", Cate,\"es de:\",Nsue)\n",
        "\n",
        "elif (Cate <= 3):\n",
        "      Nsue = Sue * 1.08\n",
        "      print(\"El nuevo sueldo con aumento de categoria\", Cate,\"es de:\",Nsue)\n",
        "\n",
        "elif (Cate <= 4):\n",
        "        Nsue = Sue * 1.07\n",
        "        print(\"El nuevo sueldo con aumento de categoria\", Cate,\"es de:\",Nsue)\n",
        "        \n"
      ],
      "execution_count": 71,
      "outputs": [
        {
          "output_type": "stream",
          "text": [
            "Categoria de el trabajador: 3\n",
            "El sueldo del trabajador es: 3800\n",
            "El nuevo sueldo con aumento de categoria 3 es de: 4104.0\n"
          ],
          "name": "stdout"
        }
      ]
    }
  ]
}