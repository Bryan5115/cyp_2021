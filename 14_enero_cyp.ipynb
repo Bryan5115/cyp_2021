{
  "nbformat": 4,
  "nbformat_minor": 0,
  "metadata": {
    "colab": {
      "name": "14_enero_cyp.ipynb",
      "provenance": [],
      "collapsed_sections": [],
      "authorship_tag": "ABX9TyPUYy8eoa64O5/G474oLMrW",
      "include_colab_link": true
    },
    "kernelspec": {
      "name": "python3",
      "display_name": "Python 3"
    }
  },
  "cells": [
    {
      "cell_type": "markdown",
      "metadata": {
        "id": "view-in-github",
        "colab_type": "text"
      },
      "source": [
        "<a href=\"https://colab.research.google.com/github/Bryan5115/cyp_2021/blob/main/14_enero_cyp.ipynb\" target=\"_parent\"><img src=\"https://colab.research.google.com/assets/colab-badge.svg\" alt=\"Open In Colab\"/></a>"
      ]
    },
    {
      "cell_type": "markdown",
      "metadata": {
        "id": "t_1xpYNB5Fku"
      },
      "source": [
        "# Palabras reservadas de Python 3\r\n",
        "\r\n",
        "1. False\r\n",
        "1. None\r\n",
        "1. True\r\n",
        "1. and\r\n",
        "1. as\r\n",
        "1. assert\r\n",
        "1. break\r\n",
        "1. class\r\n",
        "1. continue\r\n",
        "1. def\r\n",
        "1. del\r\n",
        "1. elif\r\n",
        "1. else\r\n",
        "1. except\r\n",
        "1. finally\r\n",
        "1. for\r\n",
        "1. from\r\n",
        "1. global\r\n",
        "1. if\r\n",
        "1. import\r\n",
        "1. in\r\n",
        "1. is\r\n",
        "1. lambda\r\n",
        "1. nonlocal\r\n",
        "1. not\r\n",
        "1. or\r\n",
        "1. pass\r\n",
        "1. raise\r\n",
        "1. return\r\n",
        "1. try\r\n",
        "1. while\r\n",
        "1. with\r\n",
        "1. yield\r\n",
        "\r\n"
      ]
    },
    {
      "cell_type": "code",
      "metadata": {
        "colab": {
          "base_uri": "https://localhost:8080/"
        },
        "id": "nb-INLAP5Y2X",
        "outputId": "da6f93c3-f29e-48e2-d794-11093eaa7f21"
      },
      "source": [
        "import keyword\r\n",
        "pr = keyword.kwlist\r\n",
        "print(len(pr))\r\n",
        "for palabra in pr:\r\n",
        "  print(\"1.\",palabra)"
      ],
      "execution_count": null,
      "outputs": [
        {
          "output_type": "stream",
          "text": [
            "33\n",
            "1. False\n",
            "1. None\n",
            "1. True\n",
            "1. and\n",
            "1. as\n",
            "1. assert\n",
            "1. break\n",
            "1. class\n",
            "1. continue\n",
            "1. def\n",
            "1. del\n",
            "1. elif\n",
            "1. else\n",
            "1. except\n",
            "1. finally\n",
            "1. for\n",
            "1. from\n",
            "1. global\n",
            "1. if\n",
            "1. import\n",
            "1. in\n",
            "1. is\n",
            "1. lambda\n",
            "1. nonlocal\n",
            "1. not\n",
            "1. or\n",
            "1. pass\n",
            "1. raise\n",
            "1. return\n",
            "1. try\n",
            "1. while\n",
            "1. with\n",
            "1. yield\n"
          ],
          "name": "stdout"
        }
      ]
    },
    {
      "cell_type": "markdown",
      "metadata": {
        "id": "k7H-fnto63Oo"
      },
      "source": [
        "## Variable\r\n",
        "Es un espacio de memoria de la computadora para almacenar valores que cambian a lo largo de la ejecucion del programa. Este espacio de memoria esta referenciado por un identificador, el cual tiene ciertas reglas de nombrado.\r\n",
        "- No puede iniciar con numero\r\n",
        "- No debe ser igual a alguna de las palabras reservadas\r\n",
        "- puede iniciar con _\r\n",
        "- Evitar nombres de variables largos\r\n",
        "- Evitar muy cortos, ejemplo: x, y, i\r\n",
        "- Usar notacion snake_case"
      ]
    },
    {
      "cell_type": "code",
      "metadata": {
        "colab": {
          "base_uri": "https://localhost:8080/"
        },
        "id": "qRjjCpF47xrw",
        "outputId": "1f17e4d0-e1e9-4018-c26d-64d622408a0b"
      },
      "source": [
        "_2edad= 12\r\n",
        "print(_2edad)\r\n",
        "\r\n",
        "\"\"\"\r\n",
        "\r\n",
        " No se puede usar una palabra reservada como identificador de variable:\r\n",
        "\r\n",
        "for = 12\r\n",
        "print(for)\r\n",
        "\r\n",
        "\"\"\"\r\n",
        "_2edad\r\n",
        "dias_de_la_semana= 7\r\n",
        "print(dias_de_la_semana)\r\n",
        "\r\n",
        "diasdelasemana= 7\r\n",
        "print(diasdelasemana)\r\n",
        "\r\n",
        "#Lower camel case\r\n",
        "diasDeLaSemana= 7\r\n",
        "\r\n",
        "#Upper camel case\r\n",
        "SemanaSanta = 23\r\n"
      ],
      "execution_count": null,
      "outputs": [
        {
          "output_type": "stream",
          "text": [
            "12\n",
            "7\n",
            "7\n"
          ],
          "name": "stdout"
        }
      ]
    },
    {
      "cell_type": "code",
      "metadata": {
        "id": "-oBSlyo_8pO8"
      },
      "source": [
        "\"\"\"\r\n",
        "La notacion snake case consta de formar el identificador de variable\r\n",
        "separando las palabras del mismo con un guion bajo.\r\n",
        "\r\n",
        "se recomienda que los identificadores se escriban en minusculas para las variables\r\n",
        "y en mayuscula para las constantes.\r\n",
        "\r\n",
        "es decir si tenemos una variable para los dias de la semana, se escribirian asi:\r\n",
        "\r\n",
        "dias_de_la_semana = 7\r\n",
        "dias_mes = 31\r\n",
        "limite_maximo = 100\r\n",
        "\r\n",
        "\r\n",
        "\"\"\""
      ],
      "execution_count": null,
      "outputs": []
    },
    {
      "cell_type": "markdown",
      "metadata": {
        "id": "YbONlvmc969q"
      },
      "source": [
        "# Tipos de datos\r\n",
        "- Numericos\r\n",
        "  - int 4 bytes (1, 2, 3243, etc.)\r\n",
        "  - float 4 bytes (1.14, 3.1416, 1.0)\r\n",
        "  - long 8 bytes (1, 2, 23454, etc)\r\n",
        "  - complex 3 + 2j (Raices Negativas)\r\n",
        "- Boolean: True o False\r\n",
        "- String cadena de caracteres (\"cad\", 'cad' o \"\"\"cad\"\"\")\r\n",
        "- listas ([1,2,3,4] , [a,b,1,2.3])\r\n",
        "- tuplas ( (edad,23) , (3,4) )\r\n",
        "- conjuntos\r\n",
        "- diccionarios ( {\"nombre\":\"Juan\"} )\r\n",
        "\r\n"
      ]
    },
    {
      "cell_type": "markdown",
      "metadata": {
        "id": "UeeQSBeXEDFR"
      },
      "source": [
        "# tipo de dato String\r\n",
        "\r\n",
        "Este tipo de dato permite almacenar cadenas de caracteres, como por ejemplo:\r\n",
        "\r\n",
        "nombre = 'Jesus'\r\n",
        "lugar_nacimiento = \"Mexico D.F., Tacuba\"\r\n",
        "frase_favorita= \"\"\"\r\n",
        "El conocimiento\r\n",
        "me persigue,\r\n",
        "Pero...\r\n",
        "yo soy mas rápido!!!\r\n",
        "\"\"\"\r\n",
        "\r\n",
        "\r\n"
      ]
    },
    {
      "cell_type": "code",
      "metadata": {
        "colab": {
          "base_uri": "https://localhost:8080/"
        },
        "id": "th5cZ5ikFU3j",
        "outputId": "d1b787c8-d6b7-44a5-b0c4-4b5ab3c328cb"
      },
      "source": [
        "nombre = 'Jesus'\r\n",
        "lugar_nacimiento = \"Mexico D.F., Tacuba\"\r\n",
        "frase_favorita= \"\"\"\r\n",
        "El conocimiento\r\n",
        "me persigue,\r\n",
        "Pero...\r\n",
        "yo soy mas rápido!!!\r\n",
        "\"\"\"\r\n",
        "\r\n",
        "print(nombre)\r\n",
        "print(lugar_nacimiento)\r\n",
        "print(frase_favorita)"
      ],
      "execution_count": 15,
      "outputs": [
        {
          "output_type": "stream",
          "text": [
            "Jesus\n",
            "Mexico D.F., Tacuba\n",
            "\n",
            "El conocimiento\n",
            "me persigue,\n",
            "Pero...\n",
            "yo soy mas rápido!!!\n",
            "\n"
          ],
          "name": "stdout"
        }
      ]
    },
    {
      "cell_type": "markdown",
      "metadata": {
        "id": "55qV9EhpFmOR"
      },
      "source": [
        "# Strings como arreglo\r\n",
        "Un string en python es almacenado como el tipo de dato (estructura de datos) arreglo.\r\n",
        "\r\n",
        "Por ejemplo la declaracion:\r\n",
        "```\r\n",
        "nombre = jesus\r\n",
        "```\r\n",
        "El elemento J es almacenado en un arreglo en la posicion 0. La en la 1 y asi sucesivamente\r\n",
        "\r\n",
        "### Selector\r\n",
        "La notacion para seleccionar un elemento del arreglo es:\r\n",
        "```\r\n",
        "[ 1 ]\r\n",
        "```\r\n",
        "Donde el valor interno debe ser un valor numerico entero\r\n"
      ]
    },
    {
      "cell_type": "code",
      "metadata": {
        "colab": {
          "base_uri": "https://localhost:8080/"
        },
        "id": "XmBfYYSWGKFt",
        "outputId": "7cf4c881-6d43-48d3-e937-ed6348c8e768"
      },
      "source": [
        "nombre = 'Jesus'\r\n",
        "print(len(nombre))\r\n",
        "print(nombre)\r\n",
        "print(nombre[0])\r\n",
        "print(nombre[3])"
      ],
      "execution_count": 19,
      "outputs": [
        {
          "output_type": "stream",
          "text": [
            "5\n",
            "Jesus\n",
            "J\n",
            "u\n"
          ],
          "name": "stdout"
        }
      ]
    },
    {
      "cell_type": "markdown",
      "metadata": {
        "id": "QbYLQnpqHWEF"
      },
      "source": [
        "# Iterar sobre un String\r\n",
        "\r\n",
        "Se puede iterar sobre un string con un for de la forma:\r\n",
        "\r\n",
        "```\r\n",
        "for letra in range( len(nombre) ):\r\n",
        "  print( letra )\r\n",
        "```\r\n",
        " \r\n"
      ]
    },
    {
      "cell_type": "code",
      "metadata": {
        "colab": {
          "base_uri": "https://localhost:8080/"
        },
        "id": "tebYrGnLIYqT",
        "outputId": "187c9de7-f5e3-4e86-9a99-eb79eee74e98"
      },
      "source": [
        "for indice in range( len(nombre) ):\r\n",
        "  print( indice, end = \" \")\r\n",
        "  print(nombre[indice])"
      ],
      "execution_count": 24,
      "outputs": [
        {
          "output_type": "stream",
          "text": [
            "0 J\n",
            "1 e\n",
            "2 s\n",
            "3 u\n",
            "4 s\n"
          ],
          "name": "stdout"
        }
      ]
    },
    {
      "cell_type": "markdown",
      "metadata": {
        "id": "pvfzUH6RKAqA"
      },
      "source": [
        "#Funcion range (inicio, stop, incremento)\r\n",
        "\r\n",
        "El inicio es opcional y por defecto tiene el valor 0\r\n",
        "El incremento tambien es opcional y por defecto es 1"
      ]
    },
    {
      "cell_type": "code",
      "metadata": {
        "colab": {
          "base_uri": "https://localhost:8080/"
        },
        "id": "2BbJdlIsJzAX",
        "outputId": "f705f492-3bfb-44de-f688-99a6303704c1"
      },
      "source": [
        "for indice in range(4, -1, -1):  # 4,  3 , 2 , 1 , 0\r\n",
        "  print(nombre[indice])"
      ],
      "execution_count": 30,
      "outputs": [
        {
          "output_type": "stream",
          "text": [
            "s\n",
            "u\n",
            "s\n",
            "e\n",
            "J\n"
          ],
          "name": "stdout"
        }
      ]
    },
    {
      "cell_type": "markdown",
      "metadata": {
        "id": "4-yft5kGL5hL"
      },
      "source": [
        "# Strings e indexado negativo\r\n",
        "En python 3 se agrega una nueva \r\n",
        "caracteristica a los arreglos de las cadenas de caracteres, esta consta de la capacidad de intentar de forma negativa.\r\n",
        "\r\n",
        "La logica es la siguiente.\r\n",
        "\r\n",
        "El ultimo elemento se le considera como indice (ALTERNATIVO) -1, con lo cual se podria referenciar el final de la cadena sin la necesidad de saber el tamaño de la misma\r\n",
        "\r\n",
        "```\r\n",
        "nombre = 'Bryan' \r\n",
        "```\r\n",
        "indice normal  0 1 2 3 4\r\n",
        "\r\n",
        "               B r y a n\r\n",
        "\r\n",
        "indice alter.  -5 -4 -3 -2 -1"
      ]
    },
    {
      "cell_type": "code",
      "metadata": {
        "colab": {
          "base_uri": "https://localhost:8080/"
        },
        "id": "D_X8VLHEMllQ",
        "outputId": "485aaab7-4e63-4772-bda1-ec77fa39e36f"
      },
      "source": [
        "nombre = \"Bryan\"\r\n",
        "print(nombre[4])\r\n",
        "print(nombre[-1])"
      ],
      "execution_count": 32,
      "outputs": [
        {
          "output_type": "stream",
          "text": [
            "n\n",
            "n\n"
          ],
          "name": "stdout"
        }
      ]
    },
    {
      "cell_type": "markdown",
      "metadata": {
        "id": "jpuNh91dP1Ow"
      },
      "source": [
        "# Slicing de cadenas de caracteres.\r\n",
        "\r\n",
        "Esta caracteristica permite sacar secciones de una cadena con la siguiente sintaxis:\r\n",
        "```\r\n",
        "[inicio : stop : incremento]\r\n",
        "```\r\n",
        "donde inicio e incremento son opcionales y tambien soportan indexado alternativo (negatovos)"
      ]
    },
    {
      "cell_type": "code",
      "metadata": {
        "colab": {
          "base_uri": "https://localhost:8080/"
        },
        "id": "nxTcychjQdRX",
        "outputId": "8009b794-530b-4bbf-df16-cea5c47231e2"
      },
      "source": [
        "facultad = \"Facultad de Estudios Superiores Aragón (La mejor)\"\r\n",
        "print(facultad)\r\n",
        "for indice in range(12,20,1):\r\n",
        "  print(facultad [indice] , end = \"\")\r\n",
        "\r\n",
        "# hacer esto mismo con la caracteristica slicing se logra asi:\r\n",
        "\r\n",
        "print(\"\\nCon slicing\")\r\n",
        "print(facultad[12:20:1])\r\n",
        "\r\n",
        "#la palabra 'de' con slicing\r\n",
        "\r\n",
        "print(facultad[9:11:1])\r\n",
        "\r\n",
        "#la frase '(lamejor)' con indexado alternativo y slicing"
      ],
      "execution_count": 38,
      "outputs": [
        {
          "output_type": "stream",
          "text": [
            "Facultad de Estudios Superiores Aragón (La mejor)\n",
            "Estudios\n",
            "Con slicing\n",
            "Estudios\n",
            "de\n"
          ],
          "name": "stdout"
        }
      ]
    }
  ]
}