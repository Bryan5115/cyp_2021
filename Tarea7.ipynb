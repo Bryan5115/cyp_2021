{
  "nbformat": 4,
  "nbformat_minor": 0,
  "metadata": {
    "colab": {
      "name": "Tarea7",
      "provenance": [],
      "authorship_tag": "ABX9TyPeXC2ISPTBzw4K8uYKx2UC",
      "include_colab_link": true
    },
    "kernelspec": {
      "name": "python3",
      "display_name": "Python 3"
    }
  },
  "cells": [
    {
      "cell_type": "markdown",
      "metadata": {
        "id": "view-in-github",
        "colab_type": "text"
      },
      "source": [
        "<a href=\"https://colab.research.google.com/github/Bryan5115/cyp_2021/blob/main/Tarea7.ipynb\" target=\"_parent\"><img src=\"https://colab.research.google.com/assets/colab-badge.svg\" alt=\"Open In Colab\"/></a>"
      ]
    },
    {
      "cell_type": "code",
      "metadata": {
        "colab": {
          "base_uri": "https://localhost:8080/"
        },
        "id": "gLQwwJe7wIf5",
        "outputId": "8460cdef-7e62-43ff-dae2-480b9e99b375"
      },
      "source": [
        "#Problema 4.11\r\n",
        "\r\n",
        "total = int(input(\"Ingrese cuantos países son: \"))\r\n",
        "\r\n",
        "norte, centro, sur, aux, aux2 = 0, 0, 0, 0, 0\r\n",
        "while True:\r\n",
        "  norte = int(input(\"Cuántos países son de Norte América: \"))\r\n",
        "  centro = int(input(\"Cuántos países son de Centro América: \"))\r\n",
        "  sur = int(input(\"Cuántos países son de Sur América: \"))\r\n",
        "  aux = norte + centro + sur\r\n",
        "\r\n",
        "  if aux == total:\r\n",
        "    break;\r\n",
        "  elif aux < total:\r\n",
        "    print(\"La cantidad de países ingresada es menor a la total.\")\r\n",
        "  elif aux > total:\r\n",
        "    print(\"La cantidad de países ingresada es mayor a la total.\")\r\n",
        "\r\n",
        "paises = [\"Norte\", \"Centro\", \"Sur\"]\r\n",
        "aux = 0\r\n",
        "Norte = [str(0) for x in range(norte)]\r\n",
        "Centro = [str(0) for x in range(centro)]\r\n",
        "Sur = [str(0) for x in range(sur)]\r\n",
        "Total = [str(0) for x in range(total)]\r\n",
        "\r\n",
        "for i in range(total):\r\n",
        "  Total[i] = str(input(f\"Ingresa el nombre del país n°{aux+1} para la región del {paises[aux2]} de América: \"))\r\n",
        "  aux += 1\r\n",
        "  if aux2 == 0:\r\n",
        "    if aux >= norte:\r\n",
        "      aux = 0\r\n",
        "      aux2 = 1\r\n",
        "    Norte[aux] = Total[i]\r\n",
        "  elif aux2 == 1:\r\n",
        "    if aux >= centro:\r\n",
        "      aux = 0\r\n",
        "      aux2 = 2\r\n",
        "    Centro[aux] = Total[i]\r\n",
        "  elif aux2 == 2:\r\n",
        "    if aux >= sur:\r\n",
        "      aux = 0\r\n",
        "    Sur[aux] = Total[i]\r\n",
        "\r\n",
        "print(f\"Norte: {sorted(Norte)}\")\r\n",
        "print(f\"Centro: {sorted(Centro)}\")\r\n",
        "print(f\"Sur: {sorted(Sur)}\")\r\n",
        "print(f\"Todos: {sorted(Total)}\")"
      ],
      "execution_count": 4,
      "outputs": [
        {
          "output_type": "stream",
          "text": [
            "Ingrese cuantos países son: 11\n",
            "Cuántos países son de Norte América: 4\n",
            "Cuántos países son de Centro América: 4\n",
            "Cuántos países son de Sur América: 3\n",
            "Ingresa el nombre del país n°1 para la región del Norte de América: Estados Unidos\n",
            "Ingresa el nombre del país n°2 para la región del Norte de América: Canada\n",
            "Ingresa el nombre del país n°3 para la región del Norte de América: Mexico\n",
            "Ingresa el nombre del país n°4 para la región del Norte de América: Groelandia\n",
            "Ingresa el nombre del país n°1 para la región del Centro de América: Guatemala\n",
            "Ingresa el nombre del país n°2 para la región del Centro de América: El salvador\n",
            "Ingresa el nombre del país n°3 para la región del Centro de América: Honduras\n",
            "Ingresa el nombre del país n°4 para la región del Centro de América: Panama\n",
            "Ingresa el nombre del país n°1 para la región del Sur de América: Argentina\n",
            "Ingresa el nombre del país n°2 para la región del Sur de América: Brasil\n",
            "Ingresa el nombre del país n°3 para la región del Sur de América: Chile\n",
            "Norte: ['Canada', 'Estados Unidos', 'Groelandia', 'Mexico']\n",
            "Centro: ['El salvador', 'Guatemala', 'Honduras', 'Panama']\n",
            "Sur: ['Argentina', 'Brasil', 'Chile']\n",
            "Todos: ['Argentina', 'Brasil', 'Canada', 'Chile', 'El salvador', 'Estados Unidos', 'Groelandia', 'Guatemala', 'Honduras', 'Mexico', 'Panama']\n"
          ],
          "name": "stdout"
        }
      ]
    }
  ]
}