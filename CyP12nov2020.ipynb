{
  "nbformat": 4,
  "nbformat_minor": 0,
  "metadata": {
    "colab": {
      "name": "CyP12nov2020.ipynb",
      "provenance": [],
      "authorship_tag": "ABX9TyMpVQ5VAej0AacpOWlOMpfU",
      "include_colab_link": true
    },
    "kernelspec": {
      "name": "python3",
      "display_name": "Python 3"
    }
  },
  "cells": [
    {
      "cell_type": "markdown",
      "metadata": {
        "id": "view-in-github",
        "colab_type": "text"
      },
      "source": [
        "<a href=\"https://colab.research.google.com/github/Bryan5115/cyp_2021/blob/main/CyP12nov2020.ipynb\" target=\"_parent\"><img src=\"https://colab.research.google.com/assets/colab-badge.svg\" alt=\"Open In Colab\"/></a>"
      ]
    },
    {
      "cell_type": "code",
      "metadata": {
        "id": "OFLG7dWjcG-L",
        "outputId": "6b5c1dae-dd3f-4a91-ec76-23942a341ba6",
        "colab": {
          "base_uri": "https://localhost:8080/"
        }
      },
      "source": [
        "#Ejemplo 1\n",
        "numero=int (input(\"Dame un numero\"))\n",
        "if numero >0:\n",
        "  print(\"El número es positio\")\n",
        "\n",
        "print( \"Fin de del programa\")\n"
      ],
      "execution_count": 2,
      "outputs": [
        {
          "output_type": "stream",
          "text": [
            "Dame un numero3\n",
            "El número es positio\n",
            "Fin de del programa\n"
          ],
          "name": "stdout"
        }
      ]
    },
    {
      "cell_type": "code",
      "metadata": {
        "id": "onUwpnjGfS9U",
        "outputId": "640cc4ce-b454-4684-bef6-e19db5b83564",
        "colab": {
          "base_uri": "https://localhost:8080/"
        }
      },
      "source": [
        "#Ejemplo 2\n",
        "numero= int(input(\"Digite un numero\"))\n",
        "if numero >0:\n",
        "  print(\"el numero es positivo\")\n",
        "else:#sino imprime negativo\n",
        "  print(\"El numero es negativo\")\n"
      ],
      "execution_count": 3,
      "outputs": [
        {
          "output_type": "stream",
          "text": [
            "Digite un numero3\n",
            "el numero es positivo\n"
          ],
          "name": "stdout"
        }
      ]
    },
    {
      "cell_type": "code",
      "metadata": {
        "id": "6X7UK9uag3R0",
        "outputId": "24815c18-2905-46a1-c10b-2c13cd6c13a1",
        "colab": {
          "base_uri": "https://localhost:8080/"
        }
      },
      "source": [
        "#Ejemplo 3\n",
        "numero= int(input(\"Digite un numero\"))\n",
        "if numero >0:\n",
        "  print(\"el numero es positivo\")\n",
        "elif numero==0:\n",
        "  print(\"el numero es cero\")\n",
        "\n",
        "else:#sino imprime negativo\n",
        "  print(\"El numero es negativo\")\n",
        "\n",
        "print(\"Fin del programa\")"
      ],
      "execution_count": 4,
      "outputs": [
        {
          "output_type": "stream",
          "text": [
            "Digite un numero9\n",
            "el numero es positivo\n",
            "Fin del programa\n"
          ],
          "name": "stdout"
        }
      ]
    }
  ]
}